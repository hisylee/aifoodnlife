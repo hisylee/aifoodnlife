{
 "cells": [
  {
   "cell_type": "code",
   "execution_count": 15,
   "metadata": {},
   "outputs": [],
   "source": [
    "import numpy as np\n",
    "import pandas as pd\n",
    "from sklearn.model_selection import train_test_split\n",
    "from sklearn.svm import SVC\n",
    "from sklearn import metrics\n",
    "from sklearn.preprocessing import MinMaxScaler\n",
    "\n",
    "from skopt import BayesSearchCV\n",
    "from skopt.space import Real, Categorical, Integer"
   ]
  },
  {
   "cell_type": "code",
   "execution_count": 16,
   "metadata": {},
   "outputs": [],
   "source": [
    "df = pd.read_excel(\"C:\\\\Users\\\\oem\\\\datasets\\\\iris-dataset.xlsx\", header = 0)\n"
   ]
  },
  {
   "cell_type": "code",
   "execution_count": 17,
   "metadata": {},
   "outputs": [],
   "source": [
    "data = np.array(df, dtype=np.float32)\n",
    "\n",
    "y_data = data[:, [-1]]\n",
    "\n",
    "scaler = MinMaxScaler()\n",
    "data1 = scaler.fit_transform(df.values)\n",
    "\n",
    "x_data = data1[:, 0:-1]  \n",
    "\n",
    "x_train, x_test, y_train, y_test = train_test_split(x_data, y_data, test_size = 0.2)"
   ]
  },
  {
   "cell_type": "code",
   "execution_count": 19,
   "metadata": {
    "scrolled": false
   },
   "outputs": [],
   "source": [
    "opt = BayesSearchCV(\n",
    "    SVC(),\n",
    "    {\n",
    "        'C': Real(1e-1, 1e+2, prior = 'log-uniform'),\n",
    "        'gamma': Real(1e-1, 1e+1, prior = 'log-uniform'),\n",
    "        'kernel': Categorical (['linear', 'poly', 'rbf'])\n",
    "    },\n",
    "    n_iter = 32,\n",
    "    random_state = 0\n",
    ")"
   ]
  },
  {
   "cell_type": "code",
   "execution_count": 20,
   "metadata": {},
   "outputs": [
    {
     "name": "stdout",
     "output_type": "stream",
     "text": [
      "train 정확도 : 1.0\n",
      "test 정확도 : 0.9666666666666667\n"
     ]
    },
    {
     "data": {
      "text/plain": [
       "OrderedDict([('C', 23.061640120001027),\n",
       "             ('gamma', 1.1584059852469635),\n",
       "             ('kernel', 'linear')])"
      ]
     },
     "execution_count": 20,
     "metadata": {},
     "output_type": "execute_result"
    }
   ],
   "source": [
    "_ = opt.fit (x_train,y_train.ravel())\n",
    "\n",
    "y_train_pred =opt.predict(x_train)\n",
    "y_test_pred = opt.predict(x_test)\n",
    "\n",
    "print('train 정확도 :', metrics.accuracy_score(y_train_pred, y_train))\n",
    "print('test 정확도 :', metrics.accuracy_score(y_test_pred, y_test))\n",
    "\n",
    "opt.best_params_"
   ]
  },
  {
   "cell_type": "code",
   "execution_count": 22,
   "metadata": {},
   "outputs": [
    {
     "name": "stdout",
     "output_type": "stream",
     "text": [
      "Train Accuracy: 1.000\n",
      "Test Accuracy: 0.967\n"
     ]
    },
    {
     "name": "stderr",
     "output_type": "stream",
     "text": [
      "C:\\Users\\oem\\.conda\\envs\\TF_v2\\lib\\site-packages\\sklearn\\utils\\validation.py:1111: DataConversionWarning: A column-vector y was passed when a 1d array was expected. Please change the shape of y to (n_samples, ), for example using ravel().\n",
      "  y = column_or_1d(y, warn=True)\n"
     ]
    }
   ],
   "source": [
    "svm = SVC(kernel='linear', C=23.06, gamma = 1.158)\n",
    "svm.fit(x_train, y_train)\n",
    "\n",
    "y_train_pred = svm.predict(x_train)\n",
    "y_test_pred = svm.predict(x_test)\n",
    " \n",
    "train_acc = metrics.accuracy_score(y_train_pred, y_train)\n",
    "test_acc = metrics.accuracy_score(y_test_pred, y_test)\n",
    "\n",
    "print(f'Train Accuracy: {train_acc:.3f}')\n",
    "print(f'Test Accuracy: {test_acc:.3f}')"
   ]
  },
  {
   "cell_type": "code",
   "execution_count": null,
   "metadata": {},
   "outputs": [],
   "source": []
  }
 ],
 "metadata": {
  "kernelspec": {
   "display_name": "Python 3 (ipykernel)",
   "language": "python",
   "name": "python3"
  },
  "language_info": {
   "codemirror_mode": {
    "name": "ipython",
    "version": 3
   },
   "file_extension": ".py",
   "mimetype": "text/x-python",
   "name": "python",
   "nbconvert_exporter": "python",
   "pygments_lexer": "ipython3",
   "version": "3.9.12"
  }
 },
 "nbformat": 4,
 "nbformat_minor": 4
}
