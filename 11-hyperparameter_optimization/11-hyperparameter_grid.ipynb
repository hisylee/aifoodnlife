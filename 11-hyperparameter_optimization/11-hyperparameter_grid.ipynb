{
 "cells": [
  {
   "cell_type": "code",
   "execution_count": 5,
   "metadata": {},
   "outputs": [],
   "source": [
    "import numpy as np\n",
    "import pandas as pd\n",
    "from sklearn.model_selection import train_test_split\n",
    "from sklearn.svm import SVC\n",
    "from sklearn import metrics\n",
    "from sklearn.preprocessing import MinMaxScaler\n",
    "\n",
    "from sklearn.model_selection import GridSearchCV"
   ]
  },
  {
   "cell_type": "code",
   "execution_count": 6,
   "metadata": {},
   "outputs": [],
   "source": [
    "df = pd.read_excel(\"C:\\\\Users\\\\oem\\\\datasets\\\\iris-dataset.xlsx\", header = 0)\n"
   ]
  },
  {
   "cell_type": "code",
   "execution_count": 7,
   "metadata": {},
   "outputs": [],
   "source": [
    "data = np.array(df, dtype=np.float32)\n",
    "\n",
    "y_data = data[:, [-1]]\n",
    "\n",
    "scaler = MinMaxScaler()\n",
    "data1 = scaler.fit_transform(df.values)\n",
    "\n",
    "x_data = data1[:, 0:-1]  \n",
    "\n",
    "x_train, x_test, y_train, y_test = train_test_split(x_data, y_data, test_size = 0.2)"
   ]
  },
  {
   "cell_type": "code",
   "execution_count": 8,
   "metadata": {
    "scrolled": false
   },
   "outputs": [
    {
     "name": "stdout",
     "output_type": "stream",
     "text": [
      "C: SVC(C=1, gamma=1, random_state=123)\n",
      "best parameters: {'C': 1, 'gamma': 1, 'kernel': 'rbf'}\n",
      "best score: 0.975\n"
     ]
    }
   ],
   "source": [
    "estimator = SVC(random_state=123)\n",
    "\n",
    "kernel = ['linear', 'rbf']\n",
    "c_value = [ c for c in range(1, 20) ]\n",
    "gamma_value = [ 0.1, 1, 10 ]\n",
    "\n",
    "param_grids = {\"kernel\": kernel,\n",
    "             \"C\": c_value,\n",
    "             \"gamma\": gamma_value}\n",
    "\n",
    "model_grid = GridSearchCV(estimator, param_grid=param_grids, scoring=\"accuracy\") \n",
    "model_grid.fit(x_train, y_train.ravel())\n",
    "\n",
    "print(\"C: {}\".format(model_grid.best_estimator_))\n",
    "print(\"best parameters: {}\".format(model_grid.best_params_))\n",
    "print(\"best score: {}\".format(model_grid.best_score_.round(3)))"
   ]
  },
  {
   "cell_type": "code",
   "execution_count": null,
   "metadata": {},
   "outputs": [],
   "source": []
  }
 ],
 "metadata": {
  "kernelspec": {
   "display_name": "Python 3 (ipykernel)",
   "language": "python",
   "name": "python3"
  },
  "language_info": {
   "codemirror_mode": {
    "name": "ipython",
    "version": 3
   },
   "file_extension": ".py",
   "mimetype": "text/x-python",
   "name": "python",
   "nbconvert_exporter": "python",
   "pygments_lexer": "ipython3",
   "version": "3.9.12"
  }
 },
 "nbformat": 4,
 "nbformat_minor": 4
}
