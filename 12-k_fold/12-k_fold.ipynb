{
 "cells": [
  {
   "cell_type": "code",
   "execution_count": 1,
   "metadata": {},
   "outputs": [],
   "source": [
    "import numpy as np\n",
    "import pandas as pd\n",
    "from sklearn.model_selection import train_test_split\n",
    "from sklearn.preprocessing import MinMaxScaler\n",
    "\n",
    "from sklearn.svm import SVC\n",
    "from sklearn import metrics\n",
    "\n",
    "from sklearn.model_selection import KFold"
   ]
  },
  {
   "cell_type": "code",
   "execution_count": 2,
   "metadata": {},
   "outputs": [],
   "source": [
    "df = pd.read_excel(\"C:\\\\Users\\\\oem\\\\datasets\\\\iris-dataset.xlsx\", header = 0)\n"
   ]
  },
  {
   "cell_type": "code",
   "execution_count": 3,
   "metadata": {},
   "outputs": [],
   "source": [
    "x_data, y_data = df.drop(['Species'], axis = 1), df['Species']\n",
    "    \n",
    "scaler = MinMaxScaler()\n",
    "x_data =scaler.fit_transform(x_data)"
   ]
  },
  {
   "cell_type": "code",
   "execution_count": 5,
   "metadata": {
    "scrolled": false
   },
   "outputs": [
    {
     "name": "stdout",
     "output_type": "stream",
     "text": [
      "(150, 4)\n"
     ]
    },
    {
     "data": {
      "text/plain": [
       "0      0\n",
       "1      0\n",
       "2      0\n",
       "3      0\n",
       "4      0\n",
       "      ..\n",
       "145    2\n",
       "146    2\n",
       "147    2\n",
       "148    2\n",
       "149    2\n",
       "Name: Species, Length: 150, dtype: int64"
      ]
     },
     "execution_count": 5,
     "metadata": {},
     "output_type": "execute_result"
    }
   ],
   "source": [
    "print (x_data.shape)\n",
    "y_data"
   ]
  },
  {
   "cell_type": "code",
   "execution_count": 6,
   "metadata": {},
   "outputs": [
    {
     "name": "stdout",
     "output_type": "stream",
     "text": [
      "Order: 1\n",
      "x_train: (120, 4)\n",
      "x_test: (30, 4)\n",
      "Train Accuracy: 0.967\n",
      "Test Accuracy: 1.000\n",
      "Order: 2\n",
      "x_train: (120, 4)\n",
      "x_test: (30, 4)\n",
      "Train Accuracy: 0.967\n",
      "Test Accuracy: 1.000\n",
      "Order: 3\n",
      "x_train: (120, 4)\n",
      "x_test: (30, 4)\n",
      "Train Accuracy: 1.000\n",
      "Test Accuracy: 0.833\n",
      "Order: 4\n",
      "x_train: (120, 4)\n",
      "x_test: (30, 4)\n",
      "Train Accuracy: 0.975\n",
      "Test Accuracy: 0.967\n",
      "Order: 5\n",
      "x_train: (120, 4)\n",
      "x_test: (30, 4)\n",
      "Train Accuracy: 0.992\n",
      "Test Accuracy: 0.833\n"
     ]
    }
   ],
   "source": [
    "kf = KFold(n_splits=5)\n",
    "j = 0\n",
    "for train_index, test_index in kf.split(x_data):\n",
    "    x_train, x_test = x_data[train_index], x_data[test_index]\n",
    "    y_train, y_test = y_data[train_index], y_data[test_index]\n",
    "\n",
    "    svm = SVC(kernel='linear', C=10, gamma = 1)\n",
    "    svm.fit(x_train, y_train)\n",
    "    \n",
    "    y_train_pred = svm.predict(x_train)\n",
    "    y_test_pred = svm.predict(x_test)\n",
    "    \n",
    "    train_acc = metrics.accuracy_score(y_train_pred, y_train)\n",
    "    test_acc = metrics.accuracy_score(y_test_pred, y_test)\n",
    "\n",
    "    j+=1\n",
    "    print ('Order:', j)\n",
    "    \n",
    "    print ('x_train:', x_train.shape)\n",
    "    print ('x_test:', x_test.shape)\n",
    "    \n",
    "    print(f'Train Accuracy: {train_acc:.3f}')\n",
    "    print(f'Test Accuracy: {test_acc:.3f}')\n",
    "    "
   ]
  },
  {
   "cell_type": "code",
   "execution_count": 7,
   "metadata": {},
   "outputs": [
    {
     "name": "stdout",
     "output_type": "stream",
     "text": [
      "Order: 1\n",
      "Train Accuracy: 0.967\n",
      "Test Accuracy: 1.000\n",
      "Order: 2\n",
      "Train Accuracy: 0.967\n",
      "Test Accuracy: 1.000\n",
      "Order: 3\n",
      "Train Accuracy: 1.000\n",
      "Test Accuracy: 0.833\n",
      "Order: 4\n",
      "Train Accuracy: 0.975\n",
      "Test Accuracy: 0.967\n",
      "Order: 5\n",
      "Train Accuracy: 0.992\n",
      "Test Accuracy: 0.833\n",
      "Train list: [0.9666666666666667, 0.9666666666666667, 1.0, 0.975, 0.9916666666666667] Average: 0.980\n",
      "Test list: [1.0, 1.0, 0.8333333333333334, 0.9666666666666667, 0.8333333333333334] Average: 0.927\n"
     ]
    }
   ],
   "source": [
    "kf = KFold(n_splits=5)\n",
    "j = 0\n",
    "train_list = []\n",
    "test_list = []\n",
    "for train_index, test_index in kf.split(x_data):\n",
    "    x_train, x_test = x_data[train_index], x_data[test_index]\n",
    "    y_train, y_test = y_data[train_index], y_data[test_index]\n",
    "    \n",
    "    svm = SVC(kernel='linear', C=10, gamma = 1)\n",
    "    svm.fit(x_train, y_train)\n",
    "    \n",
    "    y_train_pred = svm.predict(x_train)\n",
    "    y_test_pred = svm.predict(x_test)\n",
    "    \n",
    "    train_acc = metrics.accuracy_score(y_train_pred, y_train)\n",
    "    test_acc = metrics.accuracy_score(y_test_pred, y_test)\n",
    "\n",
    "    j+=1\n",
    "    print ('Order:', j)\n",
    "    \n",
    "    print(f'Train Accuracy: {train_acc:.3f}')\n",
    "    print(f'Test Accuracy: {test_acc:.3f}')\n",
    "    \n",
    "    train_list.append(train_acc)\n",
    "    test_list.append(test_acc)\n",
    "\n",
    "print(f'Train list: {train_list}', f'Average: {np.mean(train_list):.3f}')\n",
    "print(f'Test list: {test_list}', f'Average: {np.mean(test_list):.3f}')"
   ]
  },
  {
   "cell_type": "code",
   "execution_count": null,
   "metadata": {},
   "outputs": [],
   "source": []
  }
 ],
 "metadata": {
  "kernelspec": {
   "display_name": "Python 3 (ipykernel)",
   "language": "python",
   "name": "python3"
  },
  "language_info": {
   "codemirror_mode": {
    "name": "ipython",
    "version": 3
   },
   "file_extension": ".py",
   "mimetype": "text/x-python",
   "name": "python",
   "nbconvert_exporter": "python",
   "pygments_lexer": "ipython3",
   "version": "3.9.12"
  }
 },
 "nbformat": 4,
 "nbformat_minor": 4
}
