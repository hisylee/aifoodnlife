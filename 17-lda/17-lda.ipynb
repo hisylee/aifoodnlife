{
 "cells": [
  {
   "cell_type": "code",
   "execution_count": 1,
   "metadata": {},
   "outputs": [],
   "source": [
    "import numpy as np\n",
    "import pandas as pd\n",
    "from sklearn.model_selection import train_test_split\n",
    "from sklearn.preprocessing import MinMaxScaler\n",
    "\n",
    "import matplotlib.pyplot as plt\n",
    "from sklearn.discriminant_analysis import LinearDiscriminantAnalysis"
   ]
  },
  {
   "cell_type": "code",
   "execution_count": 2,
   "metadata": {},
   "outputs": [],
   "source": [
    "df = pd.read_excel(\"C:\\\\Users\\\\oem\\\\datasets\\\\iris-dataset.xlsx\", header = 0)\n"
   ]
  },
  {
   "cell_type": "code",
   "execution_count": 3,
   "metadata": {},
   "outputs": [],
   "source": [
    "data = np.array(df, dtype=np.float32)\n",
    "\n",
    "y_data = data[:, [-1]]\n",
    "\n",
    "scaler = MinMaxScaler()\n",
    "data1 = scaler.fit_transform(df.values)\n",
    "\n",
    "x_data = data1[:, 0:-1]  \n"
   ]
  },
  {
   "cell_type": "code",
   "execution_count": 4,
   "metadata": {},
   "outputs": [
    {
     "name": "stdout",
     "output_type": "stream",
     "text": [
      "[0.9912126 0.0087874]\n",
      "         LD_1      LD_2\n",
      "0    8.061800  0.300421\n",
      "1    7.128688 -0.786660\n",
      "2    7.489828 -0.265384\n",
      "3    6.813201 -0.670631\n",
      "4    8.132309  0.514463\n",
      "..        ...       ...\n",
      "145 -5.645003  1.677717\n",
      "146 -5.179565 -0.363475\n",
      "147 -4.967741  0.821141\n",
      "148 -5.886145  2.345091\n",
      "149 -4.683154  0.332034\n",
      "\n",
      "[150 rows x 2 columns]\n"
     ]
    },
    {
     "name": "stderr",
     "output_type": "stream",
     "text": [
      "C:\\Users\\oem\\.conda\\envs\\TF_v2\\lib\\site-packages\\sklearn\\utils\\validation.py:1111: DataConversionWarning: A column-vector y was passed when a 1d array was expected. Please change the shape of y to (n_samples, ), for example using ravel().\n",
      "  y = column_or_1d(y, warn=True)\n"
     ]
    }
   ],
   "source": [
    "lda = LinearDiscriminantAnalysis(n_components=2)\n",
    "lda.fit(x_data, y_data)\n",
    "iris_lda = lda.transform(x_data)\n",
    "\n",
    "lda_columns = ['LD_1', 'LD_2']\n",
    "irisDF_lda = pd.DataFrame(iris_lda, columns = lda_columns)\n",
    "print (lda.explained_variance_ratio_)\n",
    "print (irisDF_lda)"
   ]
  },
  {
   "cell_type": "code",
   "execution_count": 5,
   "metadata": {},
   "outputs": [
    {
     "name": "stdout",
     "output_type": "stream",
     "text": [
      "         LD_1      LD_2  target\n",
      "0    8.061800  0.300421     0.0\n",
      "1    7.128688 -0.786660     0.0\n",
      "2    7.489828 -0.265384     0.0\n",
      "3    6.813201 -0.670631     0.0\n",
      "4    8.132309  0.514463     0.0\n",
      "..        ...       ...     ...\n",
      "145 -5.645003  1.677717     2.0\n",
      "146 -5.179565 -0.363475     2.0\n",
      "147 -4.967741  0.821141     2.0\n",
      "148 -5.886145  2.345091     2.0\n",
      "149 -4.683154  0.332034     2.0\n",
      "\n",
      "[150 rows x 3 columns]\n"
     ]
    }
   ],
   "source": [
    "irisDF_lda['target']=y_data\n",
    "print (irisDF_lda)"
   ]
  },
  {
   "cell_type": "code",
   "execution_count": 7,
   "metadata": {},
   "outputs": [
    {
     "data": {
      "image/png": "[encoded data removed]",
      "text/plain": [
       "<Figure size 432x288 with 1 Axes>"
      ]
     },
     "metadata": {
      "needs_background": "light"
     },
     "output_type": "display_data"
    }
   ],
   "source": [
    "markers = ['^', 's', 'o']\n",
    "target_names = ['Sentosa','verisicolor','virginica']\n",
    "\n",
    "for i, marker in enumerate (markers):\n",
    "    x_axis_data = irisDF_lda[irisDF_lda['target']==i]['LD_1']\n",
    "    y_axis_data = irisDF_lda[irisDF_lda['target']==i]['LD_2']\n",
    "    plt.scatter(x_axis_data, y_axis_data, marker=marker, label = target_names[i])\n",
    "    \n",
    "plt.legend()\n",
    "plt.xlabel('LD_1')\n",
    "plt.ylabel('LD_2')\n",
    "plt.show()"
   ]
  },
  {
   "cell_type": "code",
   "execution_count": null,
   "metadata": {},
   "outputs": [],
   "source": []
  }
 ],
 "metadata": {
  "kernelspec": {
   "display_name": "Python 3 (ipykernel)",
   "language": "python",
   "name": "python3"
  },
  "language_info": {
   "codemirror_mode": {
    "name": "ipython",
    "version": 3
   },
   "file_extension": ".py",
   "mimetype": "text/x-python",
   "name": "python",
   "nbconvert_exporter": "python",
   "pygments_lexer": "ipython3",
   "version": "3.9.12"
  }
 },
 "nbformat": 4,
 "nbformat_minor": 4
}
