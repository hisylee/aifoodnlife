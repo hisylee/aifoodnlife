{
 "cells": [
  {
   "cell_type": "code",
   "execution_count": 9,
   "id": "c14c8386",
   "metadata": {},
   "outputs": [
    {
     "name": "stdout",
     "output_type": "stream",
     "text": [
      "<class 'dict'>\n",
      "dict_keys(['Jenny', 'Ella'])\n",
      "dict_values([20, 31])\n"
     ]
    }
   ],
   "source": [
    "# Dictionary\n",
    "\n",
    "d1 = {\"Jenny\":20, \"Ella\":31}\n",
    "print (type(d1))\n",
    "\n",
    "print (d1.keys())\n",
    "print (d1.values())"
   ]
  },
  {
   "cell_type": "code",
   "execution_count": 10,
   "id": "97832043",
   "metadata": {},
   "outputs": [
    {
     "name": "stdout",
     "output_type": "stream",
     "text": [
      "{'Jenny': 20, 'Ella': 31, 'John': 26, 'Tom': 29}\n"
     ]
    }
   ],
   "source": [
    "d1[\"John\"]=26\n",
    "d1['Tom']=29\n",
    "print (d1)"
   ]
  },
  {
   "cell_type": "code",
   "execution_count": 11,
   "id": "ac0fb98d",
   "metadata": {},
   "outputs": [
    {
     "name": "stdout",
     "output_type": "stream",
     "text": [
      "Jenny 20\n",
      "Ella 31\n",
      "John 26\n",
      "Tom 29\n"
     ]
    }
   ],
   "source": [
    "for key, value in d1.items():\n",
    "    print (key, value)"
   ]
  },
  {
   "cell_type": "code",
   "execution_count": null,
   "id": "b059a9b5",
   "metadata": {},
   "outputs": [],
   "source": []
  },
  {
   "cell_type": "code",
   "execution_count": null,
   "id": "1a54f445",
   "metadata": {},
   "outputs": [],
   "source": []
  }
 ],
 "metadata": {
  "kernelspec": {
   "display_name": "Python 3 (ipykernel)",
   "language": "python",
   "name": "python3"
  },
  "language_info": {
   "codemirror_mode": {
    "name": "ipython",
    "version": 3
   },
   "file_extension": ".py",
   "mimetype": "text/x-python",
   "name": "python",
   "nbconvert_exporter": "python",
   "pygments_lexer": "ipython3",
   "version": "3.9.12"
  }
 },
 "nbformat": 4,
 "nbformat_minor": 5
}
