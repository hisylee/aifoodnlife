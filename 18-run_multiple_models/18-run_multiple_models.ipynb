{
 "cells": [
  {
   "cell_type": "code",
   "execution_count": 9,
   "metadata": {},
   "outputs": [],
   "source": [
    "import numpy as np\n",
    "import pandas as pd\n",
    "from sklearn.preprocessing import MinMaxScaler\n",
    "from sklearn.model_selection import train_test_split\n",
    "from sklearn import metrics\n",
    "from sklearn.model_selection import KFold, cross_val_score\n",
    "\n",
    "from sklearn.tree import DecisionTreeClassifier\n",
    "from sklearn.ensemble import RandomForestClassifier\n",
    "from sklearn.neighbors import KNeighborsClassifier\n",
    "from sklearn.svm import SVC"
   ]
  },
  {
   "cell_type": "code",
   "execution_count": 10,
   "metadata": {},
   "outputs": [
    {
     "data": {
      "text/html": [
       "<div>\n",
       "<style scoped>\n",
       "    .dataframe tbody tr th:only-of-type {\n",
       "        vertical-align: middle;\n",
       "    }\n",
       "\n",
       "    .dataframe tbody tr th {\n",
       "        vertical-align: top;\n",
       "    }\n",
       "\n",
       "    .dataframe thead th {\n",
       "        text-align: right;\n",
       "    }\n",
       "</style>\n",
       "<table border=\"1\" class=\"dataframe\">\n",
       "  <thead>\n",
       "    <tr style=\"text-align: right;\">\n",
       "      <th></th>\n",
       "      <th>fixed acidity</th>\n",
       "      <th>volatile acidity</th>\n",
       "      <th>citric acid</th>\n",
       "      <th>residual sugar</th>\n",
       "      <th>chlorides</th>\n",
       "      <th>free sulfur dioxide</th>\n",
       "      <th>total sulfur dioxide</th>\n",
       "      <th>density</th>\n",
       "      <th>pH</th>\n",
       "      <th>sulphates</th>\n",
       "      <th>alcohol</th>\n",
       "      <th>quality</th>\n",
       "    </tr>\n",
       "  </thead>\n",
       "  <tbody>\n",
       "    <tr>\n",
       "      <th>0</th>\n",
       "      <td>7.4</td>\n",
       "      <td>0.70</td>\n",
       "      <td>0.00</td>\n",
       "      <td>1.9</td>\n",
       "      <td>0.076</td>\n",
       "      <td>11.0</td>\n",
       "      <td>34.0</td>\n",
       "      <td>0.9978</td>\n",
       "      <td>3.51</td>\n",
       "      <td>0.56</td>\n",
       "      <td>9.4</td>\n",
       "      <td>5</td>\n",
       "    </tr>\n",
       "    <tr>\n",
       "      <th>1</th>\n",
       "      <td>7.8</td>\n",
       "      <td>0.88</td>\n",
       "      <td>0.00</td>\n",
       "      <td>2.6</td>\n",
       "      <td>0.098</td>\n",
       "      <td>25.0</td>\n",
       "      <td>67.0</td>\n",
       "      <td>0.9968</td>\n",
       "      <td>3.20</td>\n",
       "      <td>0.68</td>\n",
       "      <td>9.8</td>\n",
       "      <td>5</td>\n",
       "    </tr>\n",
       "    <tr>\n",
       "      <th>2</th>\n",
       "      <td>7.8</td>\n",
       "      <td>0.76</td>\n",
       "      <td>0.04</td>\n",
       "      <td>2.3</td>\n",
       "      <td>0.092</td>\n",
       "      <td>15.0</td>\n",
       "      <td>54.0</td>\n",
       "      <td>0.9970</td>\n",
       "      <td>3.26</td>\n",
       "      <td>0.65</td>\n",
       "      <td>9.8</td>\n",
       "      <td>5</td>\n",
       "    </tr>\n",
       "    <tr>\n",
       "      <th>3</th>\n",
       "      <td>11.2</td>\n",
       "      <td>0.28</td>\n",
       "      <td>0.56</td>\n",
       "      <td>1.9</td>\n",
       "      <td>0.075</td>\n",
       "      <td>17.0</td>\n",
       "      <td>60.0</td>\n",
       "      <td>0.9980</td>\n",
       "      <td>3.16</td>\n",
       "      <td>0.58</td>\n",
       "      <td>9.8</td>\n",
       "      <td>6</td>\n",
       "    </tr>\n",
       "    <tr>\n",
       "      <th>4</th>\n",
       "      <td>7.4</td>\n",
       "      <td>0.70</td>\n",
       "      <td>0.00</td>\n",
       "      <td>1.9</td>\n",
       "      <td>0.076</td>\n",
       "      <td>11.0</td>\n",
       "      <td>34.0</td>\n",
       "      <td>0.9978</td>\n",
       "      <td>3.51</td>\n",
       "      <td>0.56</td>\n",
       "      <td>9.4</td>\n",
       "      <td>5</td>\n",
       "    </tr>\n",
       "  </tbody>\n",
       "</table>\n",
       "</div>"
      ],
      "text/plain": [
       "   fixed acidity  volatile acidity  citric acid  residual sugar  chlorides  \\\n",
       "0            7.4              0.70         0.00             1.9      0.076   \n",
       "1            7.8              0.88         0.00             2.6      0.098   \n",
       "2            7.8              0.76         0.04             2.3      0.092   \n",
       "3           11.2              0.28         0.56             1.9      0.075   \n",
       "4            7.4              0.70         0.00             1.9      0.076   \n",
       "\n",
       "   free sulfur dioxide  total sulfur dioxide  density    pH  sulphates  \\\n",
       "0                 11.0                  34.0   0.9978  3.51       0.56   \n",
       "1                 25.0                  67.0   0.9968  3.20       0.68   \n",
       "2                 15.0                  54.0   0.9970  3.26       0.65   \n",
       "3                 17.0                  60.0   0.9980  3.16       0.58   \n",
       "4                 11.0                  34.0   0.9978  3.51       0.56   \n",
       "\n",
       "   alcohol  quality  \n",
       "0      9.4        5  \n",
       "1      9.8        5  \n",
       "2      9.8        5  \n",
       "3      9.8        6  \n",
       "4      9.4        5  "
      ]
     },
     "execution_count": 10,
     "metadata": {},
     "output_type": "execute_result"
    }
   ],
   "source": [
    "df = pd.read_excel(\"red_wine_quality.xlsx\", header = 0)\n",
    "\n",
    "df.head()"
   ]
  },
  {
   "cell_type": "code",
   "execution_count": 11,
   "metadata": {},
   "outputs": [
    {
     "name": "stdout",
     "output_type": "stream",
     "text": [
      "(1599, 11)\n",
      "(1279, 11)\n",
      "(320, 11)\n"
     ]
    }
   ],
   "source": [
    "data = np.array(df, dtype=np.float32)\n",
    "\n",
    "y_data = data[:, [-1]]\n",
    "\n",
    "scaler = MinMaxScaler()\n",
    "data1 = scaler.fit_transform(df.values)\n",
    "\n",
    "x_data = data1[:, 0:-1]  \n",
    "\n",
    "x_train, x_test, y_train, y_test = train_test_split(x_data, y_data, test_size = 0.2)\n",
    "\n",
    "print (x_data.shape)\n",
    "print (x_train.shape)\n",
    "print (x_test.shape)"
   ]
  },
  {
   "cell_type": "code",
   "execution_count": 12,
   "metadata": {},
   "outputs": [
    {
     "data": {
      "text/plain": [
       "array([[0.24778761, 0.39726027, 0.        , ..., 0.60629921, 0.13772455,\n",
       "        0.15384615],\n",
       "       [0.28318584, 0.52054795, 0.        , ..., 0.36220472, 0.20958084,\n",
       "        0.21538462],\n",
       "       [0.28318584, 0.43835616, 0.04      , ..., 0.40944882, 0.19161677,\n",
       "        0.21538462],\n",
       "       ...,\n",
       "       [0.15044248, 0.26712329, 0.13      , ..., 0.53543307, 0.25149701,\n",
       "        0.4       ],\n",
       "       [0.11504425, 0.35958904, 0.12      , ..., 0.65354331, 0.22754491,\n",
       "        0.27692308],\n",
       "       [0.12389381, 0.13013699, 0.47      , ..., 0.51181102, 0.19760479,\n",
       "        0.4       ]])"
      ]
     },
     "execution_count": 12,
     "metadata": {},
     "output_type": "execute_result"
    }
   ],
   "source": [
    "x_data"
   ]
  },
  {
   "cell_type": "code",
   "execution_count": 13,
   "metadata": {},
   "outputs": [
    {
     "name": "stdout",
     "output_type": "stream",
     "text": [
      "DecisionTreeClassifier: 58.438%\n",
      "RandomForestClassifier: 71.875%\n",
      "KNeighborsClassifier: 58.750%\n",
      "SVM: 59.688%\n"
     ]
    }
   ],
   "source": [
    "# model comparison\n",
    "\n",
    "models = {\n",
    "    'DecisionTreeClassifier': DecisionTreeClassifier(max_depth=5, random_state=1234),\n",
    "    'RandomForestClassifier': RandomForestClassifier(n_estimators=100), \n",
    "    'KNeighborsClassifier': KNeighborsClassifier(),\n",
    "    'SVM': SVC(kernel='rbf', C=10, gamma = 1)\n",
    "}\n",
    "\n",
    "for key, value in models.items(): \n",
    "    model = value\n",
    "    model.fit(x_train, y_train.ravel())\n",
    "    y_pred = model.predict(x_test)\n",
    "    \n",
    "    print('%s: %.3f%%' % (key, metrics.accuracy_score(y_pred, y_test)*100))"
   ]
  },
  {
   "cell_type": "code",
   "execution_count": 14,
   "metadata": {},
   "outputs": [
    {
     "name": "stdout",
     "output_type": "stream",
     "text": [
      "DecisionTreeClassifier: 58.163%\n",
      "[57.5   57.5   60.938 54.688 60.188]\n",
      "RandomForestClassifier: 68.355%\n",
      "[67.812 67.5   72.812 65.625 68.025]\n",
      "KNeighborsClassifier: 58.413%\n",
      "[56.563 56.563 60.938 57.812 60.188]\n",
      "SVM: 60.726%\n",
      "[59.375 61.25  62.187 60.    60.815]\n"
     ]
    }
   ],
   "source": [
    "# k-fold\n",
    "\n",
    "models = {\n",
    "    'DecisionTreeClassifier': DecisionTreeClassifier(max_depth=5, random_state=1234),\n",
    "    'RandomForestClassifier': RandomForestClassifier(n_estimators=100), \n",
    "    'KNeighborsClassifier': KNeighborsClassifier(),\n",
    "    'SVM': SVC(kernel='rbf', C=10, gamma = 1)\n",
    "}\n",
    "\n",
    "cv = KFold(n_splits=5, shuffle = True, random_state=2019)\n",
    "\n",
    "for key, value in models.items(): \n",
    "    model = value\n",
    "    scores = cross_val_score(model, x_data, y_data.ravel(), cv = cv, scoring=\"accuracy\")*100\n",
    "    \n",
    "    print('%s: %.3f%%' % (key, np.mean(scores)))\n",
    "    print (np.round(scores, 3))"
   ]
  },
  {
   "cell_type": "code",
   "execution_count": null,
   "metadata": {},
   "outputs": [],
   "source": []
  }
 ],
 "metadata": {
  "kernelspec": {
   "display_name": "Python 3 (ipykernel)",
   "language": "python",
   "name": "python3"
  },
  "language_info": {
   "codemirror_mode": {
    "name": "ipython",
    "version": 3
   },
   "file_extension": ".py",
   "mimetype": "text/x-python",
   "name": "python",
   "nbconvert_exporter": "python",
   "pygments_lexer": "ipython3",
   "version": "3.9.12"
  }
 },
 "nbformat": 4,
 "nbformat_minor": 4
}
