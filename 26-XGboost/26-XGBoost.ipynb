{
 "cells": [
  {
   "cell_type": "code",
   "execution_count": 1,
   "metadata": {},
   "outputs": [],
   "source": [
    "import numpy as np\n",
    "import pandas as pd\n",
    "from sklearn.model_selection import train_test_split"
   ]
  },
  {
   "cell_type": "code",
   "execution_count": 35,
   "metadata": {},
   "outputs": [
    {
     "data": {
      "text/html": [
       "<div>\n",
       "<style scoped>\n",
       "    .dataframe tbody tr th:only-of-type {\n",
       "        vertical-align: middle;\n",
       "    }\n",
       "\n",
       "    .dataframe tbody tr th {\n",
       "        vertical-align: top;\n",
       "    }\n",
       "\n",
       "    .dataframe thead th {\n",
       "        text-align: right;\n",
       "    }\n",
       "</style>\n",
       "<table border=\"1\" class=\"dataframe\">\n",
       "  <thead>\n",
       "    <tr style=\"text-align: right;\">\n",
       "      <th></th>\n",
       "      <th>Sepal_Length</th>\n",
       "      <th>Sepal_Width</th>\n",
       "      <th>Petal_Length</th>\n",
       "      <th>Petal_Width</th>\n",
       "      <th>Species</th>\n",
       "    </tr>\n",
       "  </thead>\n",
       "  <tbody>\n",
       "    <tr>\n",
       "      <th>0</th>\n",
       "      <td>5.1</td>\n",
       "      <td>3.5</td>\n",
       "      <td>1.4</td>\n",
       "      <td>0.2</td>\n",
       "      <td>0</td>\n",
       "    </tr>\n",
       "    <tr>\n",
       "      <th>1</th>\n",
       "      <td>4.9</td>\n",
       "      <td>3.0</td>\n",
       "      <td>1.4</td>\n",
       "      <td>0.2</td>\n",
       "      <td>0</td>\n",
       "    </tr>\n",
       "    <tr>\n",
       "      <th>2</th>\n",
       "      <td>4.7</td>\n",
       "      <td>3.2</td>\n",
       "      <td>1.3</td>\n",
       "      <td>0.2</td>\n",
       "      <td>0</td>\n",
       "    </tr>\n",
       "    <tr>\n",
       "      <th>3</th>\n",
       "      <td>4.6</td>\n",
       "      <td>3.1</td>\n",
       "      <td>1.5</td>\n",
       "      <td>0.2</td>\n",
       "      <td>0</td>\n",
       "    </tr>\n",
       "    <tr>\n",
       "      <th>4</th>\n",
       "      <td>5.0</td>\n",
       "      <td>3.6</td>\n",
       "      <td>1.4</td>\n",
       "      <td>0.2</td>\n",
       "      <td>0</td>\n",
       "    </tr>\n",
       "  </tbody>\n",
       "</table>\n",
       "</div>"
      ],
      "text/plain": [
       "   Sepal_Length  Sepal_Width  Petal_Length  Petal_Width  Species\n",
       "0           5.1          3.5           1.4          0.2        0\n",
       "1           4.9          3.0           1.4          0.2        0\n",
       "2           4.7          3.2           1.3          0.2        0\n",
       "3           4.6          3.1           1.5          0.2        0\n",
       "4           5.0          3.6           1.4          0.2        0"
      ]
     },
     "execution_count": 35,
     "metadata": {},
     "output_type": "execute_result"
    }
   ],
   "source": [
    "df = pd.read_excel(\"C:\\\\Users\\\\oem\\\\datasets\\\\iris-dataset.xlsx\", header = 0)\n",
    "\n",
    "df.head()"
   ]
  },
  {
   "cell_type": "code",
   "execution_count": 36,
   "metadata": {},
   "outputs": [],
   "source": [
    "data = np.array(df, dtype=np.float32)\n",
    "\n",
    "x_data = data[:, 0:-1]  \n",
    "\n",
    "y_data = data[:, [-1]]\n",
    "\n",
    "x_train, x_test, y_train, y_test = train_test_split(x_data, y_data, test_size = 0.2)"
   ]
  },
  {
   "cell_type": "code",
   "execution_count": 37,
   "metadata": {},
   "outputs": [
    {
     "name": "stdout",
     "output_type": "stream",
     "text": [
      "Train Accuracy: 1.000\n",
      "Test Accuracy: 0.967\n"
     ]
    }
   ],
   "source": [
    "import xgboost as xgb\n",
    "from sklearn import metrics\n",
    "\n",
    "dtrain = xgb.DMatrix(x_train, label=y_train)\n",
    "dtest = xgb.DMatrix(x_test, label=y_test)\n",
    "\n",
    "# Set XGBoost parameters\n",
    "params = {\n",
    "    'objective': 'multi:softmax',  # Multiclass classification (다중분류)\n",
    "    'num_class': 3,  # Number of classes in the target variable \n",
    "    'max_depth': 3,  # Maximum depth of a tree\n",
    "    'eta': 0.1,  # Learning rate\n",
    "    'lambda': 1.0,  # L2 regularization\n",
    "    'gamma': 0.1,  # regularization for tree node splitting\n",
    "}\n",
    "\n",
    "# Train the XGBoost model\n",
    "num_rounds = 100  # Number of boosting rounds\n",
    "xgb_model = xgb.train(params, dtrain, num_rounds)\n",
    "\n",
    "# Make predictions on the test set\n",
    "y_train_pred = xgb_model.predict(dtrain)\n",
    "y_test_pred = xgb_model.predict(dtest)\n",
    "\n",
    "train_acc = metrics.accuracy_score(y_train_pred, y_train)\n",
    "test_acc = metrics.accuracy_score(y_test_pred, y_test)\n",
    "\n",
    "print(f'Train Accuracy: {train_acc:.3f}')\n",
    "print(f'Test Accuracy: {test_acc:.3f}')"
   ]
  },
  {
   "cell_type": "code",
   "execution_count": 38,
   "metadata": {},
   "outputs": [
    {
     "name": "stdout",
     "output_type": "stream",
     "text": [
      "[[ True]] Test: [0.] Prediction Y: 0\n",
      "[[ True]] Test: [0.] Prediction Y: 0\n",
      "[[ True]] Test: [2.] Prediction Y: 2\n",
      "[[ True]] Test: [2.] Prediction Y: 2\n",
      "[[ True]] Test: [1.] Prediction Y: 1\n",
      "[[ True]] Test: [2.] Prediction Y: 2\n",
      "[[ True]] Test: [1.] Prediction Y: 1\n",
      "[[ True]] Test: [0.] Prediction Y: 0\n",
      "[[ True]] Test: [1.] Prediction Y: 1\n",
      "[[ True]] Test: [0.] Prediction Y: 0\n",
      "[[ True]] Test: [0.] Prediction Y: 0\n",
      "[[ True]] Test: [0.] Prediction Y: 0\n",
      "[[ True]] Test: [1.] Prediction Y: 1\n",
      "[[ True]] Test: [2.] Prediction Y: 2\n",
      "[[ True]] Test: [2.] Prediction Y: 2\n",
      "[[ True]] Test: [1.] Prediction Y: 1\n",
      "[[ True]] Test: [0.] Prediction Y: 0\n",
      "[[ True]] Test: [2.] Prediction Y: 2\n",
      "[[ True]] Test: [1.] Prediction Y: 1\n",
      "[[ True]] Test: [1.] Prediction Y: 1\n",
      "[[ True]] Test: [0.] Prediction Y: 0\n",
      "[[ True]] Test: [0.] Prediction Y: 0\n",
      "[[ True]] Test: [2.] Prediction Y: 2\n",
      "[[ True]] Test: [0.] Prediction Y: 0\n",
      "[[ True]] Test: [1.] Prediction Y: 1\n",
      "[[ True]] Test: [1.] Prediction Y: 1\n",
      "[[ True]] Test: [1.] Prediction Y: 1\n",
      "[[ True]] Test: [0.] Prediction Y: 0\n",
      "[[ True]] Test: [2.] Prediction Y: 2\n",
      "[[False]] Test: [1.] Prediction Y: 2\n"
     ]
    }
   ],
   "source": [
    "for p, y in zip(y_test, y_test_pred):\n",
    "    print(\"[{}] Test: {} Prediction Y: {}\".format(p == int(y), p, int(y))) "
   ]
  },
  {
   "cell_type": "code",
   "execution_count": 39,
   "metadata": {},
   "outputs": [
    {
     "data": {
      "image/png": "[encoded data removed]",
      "text/plain": [
       "<Figure size 432x288 with 1 Axes>"
      ]
     },
     "metadata": {
      "needs_background": "light"
     },
     "output_type": "display_data"
    }
   ],
   "source": [
    "from xgboost import plot_importance\n",
    "import matplotlib.pyplot as plt\n",
    "\n",
    "feature_names = df.columns[0:4]\n",
    "feature_names\n",
    "ax = xgb.plot_importance(xgb_model)\n",
    "ax.set_yticklabels(feature_names)\n",
    "plt.show()"
   ]
  },
  {
   "cell_type": "code",
   "execution_count": null,
   "metadata": {},
   "outputs": [],
   "source": []
  }
 ],
 "metadata": {
  "kernelspec": {
   "display_name": "Python 3 (ipykernel)",
   "language": "python",
   "name": "python3"
  },
  "language_info": {
   "codemirror_mode": {
    "name": "ipython",
    "version": 3
   },
   "file_extension": ".py",
   "mimetype": "text/x-python",
   "name": "python",
   "nbconvert_exporter": "python",
   "pygments_lexer": "ipython3",
   "version": "3.9.12"
  }
 },
 "nbformat": 4,
 "nbformat_minor": 4
}
