{
 "cells": [
  {
   "cell_type": "code",
   "execution_count": 1,
   "metadata": {},
   "outputs": [],
   "source": [
    "import numpy as np\n",
    "import pandas as pd\n",
    "from sklearn.model_selection import train_test_split"
   ]
  },
  {
   "cell_type": "code",
   "execution_count": 30,
   "metadata": {},
   "outputs": [
    {
     "data": {
      "text/html": [
       "<div>\n",
       "<style scoped>\n",
       "    .dataframe tbody tr th:only-of-type {\n",
       "        vertical-align: middle;\n",
       "    }\n",
       "\n",
       "    .dataframe tbody tr th {\n",
       "        vertical-align: top;\n",
       "    }\n",
       "\n",
       "    .dataframe thead th {\n",
       "        text-align: right;\n",
       "    }\n",
       "</style>\n",
       "<table border=\"1\" class=\"dataframe\">\n",
       "  <thead>\n",
       "    <tr style=\"text-align: right;\">\n",
       "      <th></th>\n",
       "      <th>Sepal_Length</th>\n",
       "      <th>Sepal_Width</th>\n",
       "      <th>Petal_Length</th>\n",
       "      <th>Petal_Width</th>\n",
       "      <th>Species</th>\n",
       "    </tr>\n",
       "  </thead>\n",
       "  <tbody>\n",
       "    <tr>\n",
       "      <th>0</th>\n",
       "      <td>5.1</td>\n",
       "      <td>3.5</td>\n",
       "      <td>1.4</td>\n",
       "      <td>0.2</td>\n",
       "      <td>0</td>\n",
       "    </tr>\n",
       "    <tr>\n",
       "      <th>1</th>\n",
       "      <td>4.9</td>\n",
       "      <td>3.0</td>\n",
       "      <td>1.4</td>\n",
       "      <td>0.2</td>\n",
       "      <td>0</td>\n",
       "    </tr>\n",
       "    <tr>\n",
       "      <th>2</th>\n",
       "      <td>4.7</td>\n",
       "      <td>3.2</td>\n",
       "      <td>1.3</td>\n",
       "      <td>0.2</td>\n",
       "      <td>0</td>\n",
       "    </tr>\n",
       "    <tr>\n",
       "      <th>3</th>\n",
       "      <td>4.6</td>\n",
       "      <td>3.1</td>\n",
       "      <td>1.5</td>\n",
       "      <td>0.2</td>\n",
       "      <td>0</td>\n",
       "    </tr>\n",
       "    <tr>\n",
       "      <th>4</th>\n",
       "      <td>5.0</td>\n",
       "      <td>3.6</td>\n",
       "      <td>1.4</td>\n",
       "      <td>0.2</td>\n",
       "      <td>0</td>\n",
       "    </tr>\n",
       "  </tbody>\n",
       "</table>\n",
       "</div>"
      ],
      "text/plain": [
       "   Sepal_Length  Sepal_Width  Petal_Length  Petal_Width  Species\n",
       "0           5.1          3.5           1.4          0.2        0\n",
       "1           4.9          3.0           1.4          0.2        0\n",
       "2           4.7          3.2           1.3          0.2        0\n",
       "3           4.6          3.1           1.5          0.2        0\n",
       "4           5.0          3.6           1.4          0.2        0"
      ]
     },
     "execution_count": 30,
     "metadata": {},
     "output_type": "execute_result"
    }
   ],
   "source": [
    "df = pd.read_excel(\"C:\\\\Users\\\\oem\\\\datasets\\\\iris-dataset.xlsx\", header = 0)\n",
    "\n",
    "df.head()"
   ]
  },
  {
   "cell_type": "code",
   "execution_count": 31,
   "metadata": {},
   "outputs": [],
   "source": [
    "data = np.array(df, dtype=np.float32)\n",
    "\n",
    "x_data = data[:, 0:-1]  \n",
    "\n",
    "y_data = data[:, [-1]]\n",
    "\n",
    "x_train, x_test, y_train, y_test = train_test_split(x_data, y_data, test_size = 0.2)"
   ]
  },
  {
   "cell_type": "code",
   "execution_count": 32,
   "metadata": {
    "scrolled": true
   },
   "outputs": [
    {
     "name": "stdout",
     "output_type": "stream",
     "text": [
      "0:\tlearn: 1.0881207\ttotal: 845us\tremaining: 83.7ms\n",
      "1:\tlearn: 1.0765080\ttotal: 1.81ms\tremaining: 88.8ms\n",
      "2:\tlearn: 1.0642599\ttotal: 2.57ms\tremaining: 83ms\n",
      "3:\tlearn: 1.0528838\ttotal: 3.31ms\tremaining: 79.5ms\n",
      "4:\tlearn: 1.0412665\ttotal: 3.98ms\tremaining: 75.7ms\n",
      "5:\tlearn: 1.0324082\ttotal: 4.81ms\tremaining: 75.4ms\n",
      "6:\tlearn: 1.0215387\ttotal: 5.46ms\tremaining: 72.6ms\n",
      "7:\tlearn: 1.0102570\ttotal: 6.15ms\tremaining: 70.7ms\n",
      "8:\tlearn: 0.9983437\ttotal: 6.75ms\tremaining: 68.3ms\n",
      "9:\tlearn: 0.9882211\ttotal: 7.46ms\tremaining: 67.2ms\n",
      "10:\tlearn: 0.9791871\ttotal: 8.15ms\tremaining: 65.9ms\n",
      "11:\tlearn: 0.9697017\ttotal: 8.59ms\tremaining: 63ms\n",
      "12:\tlearn: 0.9602963\ttotal: 9.27ms\tremaining: 62ms\n",
      "13:\tlearn: 0.9505619\ttotal: 9.87ms\tremaining: 60.6ms\n",
      "14:\tlearn: 0.9424910\ttotal: 13ms\tremaining: 73.8ms\n",
      "15:\tlearn: 0.9340119\ttotal: 13.8ms\tremaining: 72.4ms\n",
      "16:\tlearn: 0.9233611\ttotal: 14.2ms\tremaining: 69.6ms\n",
      "17:\tlearn: 0.9136046\ttotal: 14.9ms\tremaining: 68ms\n",
      "18:\tlearn: 0.9047012\ttotal: 15.6ms\tremaining: 66.4ms\n",
      "19:\tlearn: 0.8963138\ttotal: 16.2ms\tremaining: 64.8ms\n",
      "20:\tlearn: 0.8885003\ttotal: 16.8ms\tremaining: 63.3ms\n",
      "21:\tlearn: 0.8806893\ttotal: 17.6ms\tremaining: 62.4ms\n",
      "22:\tlearn: 0.8722530\ttotal: 18.2ms\tremaining: 60.9ms\n",
      "23:\tlearn: 0.8649961\ttotal: 18.8ms\tremaining: 59.4ms\n",
      "24:\tlearn: 0.8568146\ttotal: 19.4ms\tremaining: 58.2ms\n",
      "25:\tlearn: 0.8488953\ttotal: 20ms\tremaining: 57ms\n",
      "26:\tlearn: 0.8407608\ttotal: 20.4ms\tremaining: 55.3ms\n",
      "27:\tlearn: 0.8330337\ttotal: 21ms\tremaining: 54.1ms\n",
      "28:\tlearn: 0.8245326\ttotal: 21.7ms\tremaining: 53ms\n",
      "29:\tlearn: 0.8169441\ttotal: 22.3ms\tremaining: 52.1ms\n",
      "30:\tlearn: 0.8094420\ttotal: 22.9ms\tremaining: 51.1ms\n",
      "31:\tlearn: 0.8017820\ttotal: 23.6ms\tremaining: 50.1ms\n",
      "32:\tlearn: 0.7936560\ttotal: 24ms\tremaining: 48.6ms\n",
      "33:\tlearn: 0.7874185\ttotal: 24.5ms\tremaining: 47.6ms\n",
      "34:\tlearn: 0.7814282\ttotal: 25.2ms\tremaining: 46.7ms\n",
      "35:\tlearn: 0.7751461\ttotal: 25.8ms\tremaining: 45.8ms\n",
      "36:\tlearn: 0.7682022\ttotal: 26.4ms\tremaining: 45ms\n",
      "37:\tlearn: 0.7618505\ttotal: 27ms\tremaining: 44.1ms\n",
      "38:\tlearn: 0.7553054\ttotal: 27.6ms\tremaining: 43.2ms\n",
      "39:\tlearn: 0.7488274\ttotal: 28.3ms\tremaining: 42.4ms\n",
      "40:\tlearn: 0.7423358\ttotal: 28.9ms\tremaining: 41.5ms\n",
      "41:\tlearn: 0.7354263\ttotal: 29.5ms\tremaining: 40.7ms\n",
      "42:\tlearn: 0.7294902\ttotal: 30.2ms\tremaining: 40.1ms\n",
      "43:\tlearn: 0.7231759\ttotal: 30.8ms\tremaining: 39.2ms\n",
      "44:\tlearn: 0.7171385\ttotal: 31.4ms\tremaining: 38.4ms\n",
      "45:\tlearn: 0.7108336\ttotal: 32ms\tremaining: 37.6ms\n",
      "46:\tlearn: 0.7038953\ttotal: 32.4ms\tremaining: 36.6ms\n",
      "47:\tlearn: 0.6983798\ttotal: 33ms\tremaining: 35.8ms\n",
      "48:\tlearn: 0.6921313\ttotal: 33.6ms\tremaining: 35ms\n",
      "49:\tlearn: 0.6864609\ttotal: 34.2ms\tremaining: 34.2ms\n",
      "50:\tlearn: 0.6803032\ttotal: 34.6ms\tremaining: 33.2ms\n",
      "51:\tlearn: 0.6740236\ttotal: 34.9ms\tremaining: 32.3ms\n",
      "52:\tlearn: 0.6684853\ttotal: 35.5ms\tremaining: 31.5ms\n",
      "53:\tlearn: 0.6638457\ttotal: 36.1ms\tremaining: 30.8ms\n",
      "54:\tlearn: 0.6585456\ttotal: 36.7ms\tremaining: 30.1ms\n",
      "55:\tlearn: 0.6530745\ttotal: 37.3ms\tremaining: 29.3ms\n",
      "56:\tlearn: 0.6478906\ttotal: 38ms\tremaining: 28.6ms\n",
      "57:\tlearn: 0.6419967\ttotal: 38.6ms\tremaining: 27.9ms\n",
      "58:\tlearn: 0.6367475\ttotal: 39.3ms\tremaining: 27.3ms\n",
      "59:\tlearn: 0.6319069\ttotal: 39.8ms\tremaining: 26.6ms\n",
      "60:\tlearn: 0.6275500\ttotal: 40.4ms\tremaining: 25.9ms\n",
      "61:\tlearn: 0.6221985\ttotal: 40.9ms\tremaining: 25ms\n",
      "62:\tlearn: 0.6173251\ttotal: 41.4ms\tremaining: 24.3ms\n",
      "63:\tlearn: 0.6125858\ttotal: 42ms\tremaining: 23.6ms\n",
      "64:\tlearn: 0.6080236\ttotal: 42.6ms\tremaining: 23ms\n",
      "65:\tlearn: 0.6031345\ttotal: 43.2ms\tremaining: 22.3ms\n",
      "66:\tlearn: 0.5989093\ttotal: 43.8ms\tremaining: 21.6ms\n",
      "67:\tlearn: 0.5948373\ttotal: 44.4ms\tremaining: 20.9ms\n",
      "68:\tlearn: 0.5902991\ttotal: 45ms\tremaining: 20.2ms\n",
      "69:\tlearn: 0.5851054\ttotal: 45.4ms\tremaining: 19.4ms\n",
      "70:\tlearn: 0.5809226\ttotal: 45.9ms\tremaining: 18.8ms\n",
      "71:\tlearn: 0.5772585\ttotal: 46.6ms\tremaining: 18.1ms\n",
      "72:\tlearn: 0.5729756\ttotal: 47.2ms\tremaining: 17.5ms\n",
      "73:\tlearn: 0.5683861\ttotal: 47.8ms\tremaining: 16.8ms\n",
      "74:\tlearn: 0.5638977\ttotal: 48.4ms\tremaining: 16.1ms\n",
      "75:\tlearn: 0.5598855\ttotal: 49ms\tremaining: 15.5ms\n",
      "76:\tlearn: 0.5549645\ttotal: 49.4ms\tremaining: 14.8ms\n",
      "77:\tlearn: 0.5512174\ttotal: 49.9ms\tremaining: 14.1ms\n",
      "78:\tlearn: 0.5475176\ttotal: 50.5ms\tremaining: 13.4ms\n",
      "79:\tlearn: 0.5432712\ttotal: 51.1ms\tremaining: 12.8ms\n",
      "80:\tlearn: 0.5396060\ttotal: 51.5ms\tremaining: 12.1ms\n",
      "81:\tlearn: 0.5355767\ttotal: 52.2ms\tremaining: 11.5ms\n",
      "82:\tlearn: 0.5310718\ttotal: 52.8ms\tremaining: 10.8ms\n",
      "83:\tlearn: 0.5270754\ttotal: 53.4ms\tremaining: 10.2ms\n",
      "84:\tlearn: 0.5232772\ttotal: 54ms\tremaining: 9.52ms\n",
      "85:\tlearn: 0.5205562\ttotal: 54.5ms\tremaining: 8.88ms\n",
      "86:\tlearn: 0.5175032\ttotal: 55.2ms\tremaining: 8.24ms\n",
      "87:\tlearn: 0.5133482\ttotal: 55.8ms\tremaining: 7.61ms\n",
      "88:\tlearn: 0.5097144\ttotal: 56.4ms\tremaining: 6.97ms\n",
      "89:\tlearn: 0.5061922\ttotal: 57ms\tremaining: 6.33ms\n",
      "90:\tlearn: 0.5024035\ttotal: 57.6ms\tremaining: 5.69ms\n",
      "91:\tlearn: 0.4994760\ttotal: 58.2ms\tremaining: 5.06ms\n",
      "92:\tlearn: 0.4957177\ttotal: 58.7ms\tremaining: 4.42ms\n",
      "93:\tlearn: 0.4925485\ttotal: 59.3ms\tremaining: 3.79ms\n",
      "94:\tlearn: 0.4897384\ttotal: 59.9ms\tremaining: 3.15ms\n",
      "95:\tlearn: 0.4869429\ttotal: 60.5ms\tremaining: 2.52ms\n",
      "96:\tlearn: 0.4835412\ttotal: 61.1ms\tremaining: 1.89ms\n",
      "97:\tlearn: 0.4803279\ttotal: 61.7ms\tremaining: 1.26ms\n",
      "98:\tlearn: 0.4775463\ttotal: 62.2ms\tremaining: 627us\n",
      "99:\tlearn: 0.4746599\ttotal: 62.7ms\tremaining: 0us\n",
      "Train Accuracy: 0.958\n",
      "Test Accuracy: 0.967\n"
     ]
    }
   ],
   "source": [
    "from catboost import CatBoostClassifier, Pool\n",
    "from sklearn import metrics\n",
    "\n",
    "# Create a CatBoost classifier\n",
    "catboost_model = CatBoostClassifier(iterations=100, learning_rate=0.01, depth=6, random_seed=42)\n",
    "\n",
    "# Convert the training data to a CatBoost Pool\n",
    "train_pool = Pool(x_train, label=y_train)\n",
    "\n",
    "# Train the CatBoost model\n",
    "catboost_model.fit(train_pool)\n",
    "\n",
    "# Make predictions on the test set\n",
    "y_train_pred = catboost_model.predict(x_train)\n",
    "y_test_pred = catboost_model.predict(x_test)\n",
    "\n",
    "train_acc = metrics.accuracy_score(y_train_pred, y_train)\n",
    "test_acc = metrics.accuracy_score(y_test_pred, y_test)\n",
    "\n",
    "print(f'Train Accuracy: {train_acc:.3f}')\n",
    "print(f'Test Accuracy: {test_acc:.3f}')"
   ]
  },
  {
   "cell_type": "code",
   "execution_count": 33,
   "metadata": {
    "scrolled": true
   },
   "outputs": [
    {
     "name": "stdout",
     "output_type": "stream",
     "text": [
      "[[ True]] Test: [0.] Prediction Y: 0\n",
      "[[ True]] Test: [1.] Prediction Y: 1\n",
      "[[ True]] Test: [2.] Prediction Y: 2\n",
      "[[ True]] Test: [0.] Prediction Y: 0\n",
      "[[ True]] Test: [0.] Prediction Y: 0\n",
      "[[ True]] Test: [1.] Prediction Y: 1\n",
      "[[ True]] Test: [0.] Prediction Y: 0\n",
      "[[ True]] Test: [0.] Prediction Y: 0\n",
      "[[ True]] Test: [2.] Prediction Y: 2\n",
      "[[ True]] Test: [2.] Prediction Y: 2\n",
      "[[ True]] Test: [2.] Prediction Y: 2\n",
      "[[ True]] Test: [0.] Prediction Y: 0\n",
      "[[ True]] Test: [0.] Prediction Y: 0\n",
      "[[ True]] Test: [0.] Prediction Y: 0\n",
      "[[ True]] Test: [2.] Prediction Y: 2\n",
      "[[ True]] Test: [1.] Prediction Y: 1\n",
      "[[ True]] Test: [0.] Prediction Y: 0\n",
      "[[ True]] Test: [0.] Prediction Y: 0\n",
      "[[ True]] Test: [0.] Prediction Y: 0\n",
      "[[ True]] Test: [0.] Prediction Y: 0\n",
      "[[ True]] Test: [0.] Prediction Y: 0\n",
      "[[ True]] Test: [1.] Prediction Y: 1\n",
      "[[ True]] Test: [0.] Prediction Y: 0\n",
      "[[ True]] Test: [0.] Prediction Y: 0\n",
      "[[ True]] Test: [2.] Prediction Y: 2\n",
      "[[ True]] Test: [2.] Prediction Y: 2\n",
      "[[ True]] Test: [1.] Prediction Y: 1\n",
      "[[False]] Test: [1.] Prediction Y: 2\n",
      "[[ True]] Test: [0.] Prediction Y: 0\n",
      "[[ True]] Test: [1.] Prediction Y: 1\n"
     ]
    }
   ],
   "source": [
    "for p, y in zip(y_test, y_test_pred):\n",
    "    print(\"[{}] Test: {} Prediction Y: {}\".format(p == int(y), p, int(y))) "
   ]
  },
  {
   "cell_type": "code",
   "execution_count": 34,
   "metadata": {},
   "outputs": [
    {
     "name": "stdout",
     "output_type": "stream",
     "text": [
      "Classification Report:\n",
      "              precision    recall  f1-score   support\n",
      "\n",
      "      setosa       1.00      1.00      1.00        16\n",
      "  versicolor       1.00      0.86      0.92         7\n",
      "   virginica       0.88      1.00      0.93         7\n",
      "\n",
      "    accuracy                           0.97        30\n",
      "   macro avg       0.96      0.95      0.95        30\n",
      "weighted avg       0.97      0.97      0.97        30\n",
      "\n",
      "Confusion Matrix:\n",
      "[[16  0  0]\n",
      " [ 0  6  1]\n",
      " [ 0  0  7]]\n"
     ]
    }
   ],
   "source": [
    "from sklearn.metrics import accuracy_score, classification_report, confusion_matrix\n",
    "\n",
    "# Print the classification report\n",
    "print('Classification Report:')\n",
    "target_names = ['setosa', 'versicolor', 'virginica']\n",
    "print(classification_report(y_test, y_test_pred, target_names=target_names))\n",
    "\n",
    "# Print the confusion matrix\n",
    "print('Confusion Matrix:')\n",
    "print(confusion_matrix(y_test, y_test_pred))"
   ]
  },
  {
   "cell_type": "code",
   "execution_count": 35,
   "metadata": {},
   "outputs": [
    {
     "data": {
      "image/png": "[encoded data removed]",
      "text/plain": [
       "<Figure size 720x432 with 1 Axes>"
      ]
     },
     "metadata": {
      "needs_background": "light"
     },
     "output_type": "display_data"
    }
   ],
   "source": [
    "import matplotlib.pyplot as plt\n",
    "\n",
    "feature_importances = catboost_model.get_feature_importance(Pool(x_train, y_train))\n",
    "feature_names = df.columns[:-1]\n",
    "\n",
    "# Plot feature importance\n",
    "plt.figure(figsize=(10, 6))\n",
    "plt.barh(feature_names, feature_importances)\n",
    "plt.xlabel('Feature Importance')\n",
    "plt.ylabel('Feature Name')\n",
    "plt.title('CatBoost Feature Importance')\n",
    "plt.show()"
   ]
  },
  {
   "cell_type": "code",
   "execution_count": 36,
   "metadata": {},
   "outputs": [
    {
     "name": "stdout",
     "output_type": "stream",
     "text": [
      "\n",
      "Feature Importances:\n",
      "        Feature  Importance\n",
      "3   Petal_Width   54.589523\n",
      "2  Petal_Length   37.986481\n",
      "1   Sepal_Width    4.665646\n",
      "0  Sepal_Length    2.758350\n"
     ]
    }
   ],
   "source": [
    "feature_importance_df = pd.DataFrame(\n",
    "    {'Feature': feature_names, 'Importance': feature_importances}\n",
    ").sort_values(by='Importance', ascending=False)\n",
    "\n",
    "print(\"\\nFeature Importances:\")\n",
    "print(feature_importance_df)"
   ]
  },
  {
   "cell_type": "code",
   "execution_count": null,
   "metadata": {},
   "outputs": [],
   "source": []
  }
 ],
 "metadata": {
  "kernelspec": {
   "display_name": "Python 3 (ipykernel)",
   "language": "python",
   "name": "python3"
  },
  "language_info": {
   "codemirror_mode": {
    "name": "ipython",
    "version": 3
   },
   "file_extension": ".py",
   "mimetype": "text/x-python",
   "name": "python",
   "nbconvert_exporter": "python",
   "pygments_lexer": "ipython3",
   "version": "3.9.12"
  }
 },
 "nbformat": 4,
 "nbformat_minor": 4
}
