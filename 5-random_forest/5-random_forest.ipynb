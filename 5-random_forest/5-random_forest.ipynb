{
 "cells": [
  {
   "cell_type": "code",
   "execution_count": 1,
   "metadata": {},
   "outputs": [],
   "source": [
    "import numpy as np\n",
    "import pandas as pd\n",
    "from sklearn.model_selection import train_test_split"
   ]
  },
  {
   "cell_type": "code",
   "execution_count": 2,
   "metadata": {},
   "outputs": [
    {
     "data": {
      "text/html": [
       "<div>\n",
       "<style scoped>\n",
       "    .dataframe tbody tr th:only-of-type {\n",
       "        vertical-align: middle;\n",
       "    }\n",
       "\n",
       "    .dataframe tbody tr th {\n",
       "        vertical-align: top;\n",
       "    }\n",
       "\n",
       "    .dataframe thead th {\n",
       "        text-align: right;\n",
       "    }\n",
       "</style>\n",
       "<table border=\"1\" class=\"dataframe\">\n",
       "  <thead>\n",
       "    <tr style=\"text-align: right;\">\n",
       "      <th></th>\n",
       "      <th>Sepal_Length</th>\n",
       "      <th>Sepal_Width</th>\n",
       "      <th>Petal_Length</th>\n",
       "      <th>Petal_Width</th>\n",
       "      <th>Species</th>\n",
       "    </tr>\n",
       "  </thead>\n",
       "  <tbody>\n",
       "    <tr>\n",
       "      <th>0</th>\n",
       "      <td>5.1</td>\n",
       "      <td>3.5</td>\n",
       "      <td>1.4</td>\n",
       "      <td>0.2</td>\n",
       "      <td>0</td>\n",
       "    </tr>\n",
       "    <tr>\n",
       "      <th>1</th>\n",
       "      <td>4.9</td>\n",
       "      <td>3.0</td>\n",
       "      <td>1.4</td>\n",
       "      <td>0.2</td>\n",
       "      <td>0</td>\n",
       "    </tr>\n",
       "    <tr>\n",
       "      <th>2</th>\n",
       "      <td>4.7</td>\n",
       "      <td>3.2</td>\n",
       "      <td>1.3</td>\n",
       "      <td>0.2</td>\n",
       "      <td>0</td>\n",
       "    </tr>\n",
       "    <tr>\n",
       "      <th>3</th>\n",
       "      <td>4.6</td>\n",
       "      <td>3.1</td>\n",
       "      <td>1.5</td>\n",
       "      <td>0.2</td>\n",
       "      <td>0</td>\n",
       "    </tr>\n",
       "    <tr>\n",
       "      <th>4</th>\n",
       "      <td>5.0</td>\n",
       "      <td>3.6</td>\n",
       "      <td>1.4</td>\n",
       "      <td>0.2</td>\n",
       "      <td>0</td>\n",
       "    </tr>\n",
       "  </tbody>\n",
       "</table>\n",
       "</div>"
      ],
      "text/plain": [
       "   Sepal_Length  Sepal_Width  Petal_Length  Petal_Width  Species\n",
       "0           5.1          3.5           1.4          0.2        0\n",
       "1           4.9          3.0           1.4          0.2        0\n",
       "2           4.7          3.2           1.3          0.2        0\n",
       "3           4.6          3.1           1.5          0.2        0\n",
       "4           5.0          3.6           1.4          0.2        0"
      ]
     },
     "execution_count": 2,
     "metadata": {},
     "output_type": "execute_result"
    }
   ],
   "source": [
    "df = pd.read_excel(\"C:\\\\Users\\\\oem\\\\datasets\\\\iris-dataset.xlsx\", header = 0)\n",
    "\n",
    "df.head()"
   ]
  },
  {
   "cell_type": "code",
   "execution_count": 3,
   "metadata": {},
   "outputs": [],
   "source": [
    "data = np.array(df, dtype=np.float32)\n",
    "\n",
    "x_data = data[:, 0:-1]  \n",
    "\n",
    "y_data = data[:, [-1]]\n",
    "\n",
    "x_train, x_test, y_train, y_test = train_test_split(x_data, y_data, test_size = 0.2)"
   ]
  },
  {
   "cell_type": "code",
   "execution_count": 4,
   "metadata": {},
   "outputs": [
    {
     "name": "stdout",
     "output_type": "stream",
     "text": [
      "Train Accuracy: 1.000\n",
      "Test Accuracy: 0.933\n"
     ]
    },
    {
     "name": "stderr",
     "output_type": "stream",
     "text": [
      "C:\\Users\\oem\\AppData\\Local\\Temp\\ipykernel_11484\\2378767144.py:5: DataConversionWarning: A column-vector y was passed when a 1d array was expected. Please change the shape of y to (n_samples,), for example using ravel().\n",
      "  forest.fit(x_train, y_train)# y_data_train 보다는 .ravel()을 붙이는게 좋음.\n"
     ]
    }
   ],
   "source": [
    "from sklearn.ensemble import RandomForestClassifier\n",
    "from sklearn import metrics\n",
    "\n",
    "forest = RandomForestClassifier(n_estimators=100) \n",
    "forest.fit(x_train, y_train)\n",
    "\n",
    "y_train_pred = forest.predict(x_train)\n",
    "y_test_pred = forest.predict(x_test)\n",
    " \n",
    "train_acc = metrics.accuracy_score(y_train_pred, y_train)\n",
    "test_acc = metrics.accuracy_score(y_test_pred, y_test)\n",
    "\n",
    "print(f'Train Accuracy: {train_acc:.3f}')\n",
    "print(f'Test Accuracy: {test_acc:.3f}')"
   ]
  },
  {
   "cell_type": "code",
   "execution_count": 5,
   "metadata": {},
   "outputs": [
    {
     "name": "stdout",
     "output_type": "stream",
     "text": [
      "[[ True]] Test: [2.] Prediction Y: 2\n",
      "[[ True]] Test: [2.] Prediction Y: 2\n",
      "[[ True]] Test: [1.] Prediction Y: 1\n",
      "[[ True]] Test: [0.] Prediction Y: 0\n",
      "[[ True]] Test: [2.] Prediction Y: 2\n",
      "[[False]] Test: [1.] Prediction Y: 2\n",
      "[[False]] Test: [1.] Prediction Y: 2\n",
      "[[ True]] Test: [0.] Prediction Y: 0\n",
      "[[ True]] Test: [0.] Prediction Y: 0\n",
      "[[ True]] Test: [0.] Prediction Y: 0\n",
      "[[ True]] Test: [2.] Prediction Y: 2\n",
      "[[ True]] Test: [1.] Prediction Y: 1\n",
      "[[ True]] Test: [0.] Prediction Y: 0\n",
      "[[ True]] Test: [1.] Prediction Y: 1\n",
      "[[ True]] Test: [2.] Prediction Y: 2\n",
      "[[ True]] Test: [1.] Prediction Y: 1\n",
      "[[ True]] Test: [0.] Prediction Y: 0\n",
      "[[ True]] Test: [2.] Prediction Y: 2\n",
      "[[ True]] Test: [2.] Prediction Y: 2\n",
      "[[ True]] Test: [0.] Prediction Y: 0\n",
      "[[ True]] Test: [0.] Prediction Y: 0\n",
      "[[ True]] Test: [2.] Prediction Y: 2\n",
      "[[ True]] Test: [0.] Prediction Y: 0\n",
      "[[ True]] Test: [0.] Prediction Y: 0\n",
      "[[ True]] Test: [2.] Prediction Y: 2\n",
      "[[ True]] Test: [0.] Prediction Y: 0\n",
      "[[ True]] Test: [2.] Prediction Y: 2\n",
      "[[ True]] Test: [1.] Prediction Y: 1\n",
      "[[ True]] Test: [0.] Prediction Y: 0\n",
      "[[ True]] Test: [0.] Prediction Y: 0\n"
     ]
    }
   ],
   "source": [
    "for p, y in zip(y_test, y_test_pred):\n",
    "    print(\"[{}] Test: {} Prediction Y: {}\".format(p == int(y), p, int(y)))   "
   ]
  },
  {
   "cell_type": "code",
   "execution_count": null,
   "metadata": {},
   "outputs": [],
   "source": []
  },
  {
   "cell_type": "code",
   "execution_count": 13,
   "metadata": {},
   "outputs": [
    {
     "name": "stdout",
     "output_type": "stream",
     "text": [
      "1\n",
      "2\n",
      "3\n",
      "4\n",
      "5\n"
     ]
    }
   ],
   "source": [
    "a = [1, 2, 3, 4, 5]\n",
    "\n",
    "for i in a:\n",
    "    print (i)"
   ]
  },
  {
   "cell_type": "code",
   "execution_count": 12,
   "metadata": {},
   "outputs": [
    {
     "name": "stdout",
     "output_type": "stream",
     "text": [
      "2 x 1 = 2\n",
      "2 x 2 = 4\n",
      "2 x 3 = 6\n",
      "2 x 4 = 8\n",
      "2 x 5 = 10\n",
      "2 x 6 = 12\n",
      "2 x 7 = 14\n",
      "2 x 8 = 16\n",
      "2 x 9 = 18\n"
     ]
    }
   ],
   "source": [
    "a = [1, 2, 3, 4, 5, 6, 7, 8, 9]\n",
    "\n",
    "for i in a:\n",
    "    print (f'2 x {i} = {2*i}')"
   ]
  },
  {
   "cell_type": "code",
   "execution_count": 7,
   "metadata": {},
   "outputs": [
    {
     "name": "stdout",
     "output_type": "stream",
     "text": [
      "1 a\n",
      "2 b\n",
      "3 c\n",
      "4 d\n",
      "5 e\n"
     ]
    }
   ],
   "source": [
    "a = [1, 2, 3, 4, 5]\n",
    "b = ['a', 'b', 'c', 'd', 'e']\n",
    "\n",
    "for i, j in zip(a, b):\n",
    "    print (i, j)\n",
    "\n"
   ]
  }
 ],
 "metadata": {
  "kernelspec": {
   "display_name": "Python 3 (ipykernel)",
   "language": "python",
   "name": "python3"
  },
  "language_info": {
   "codemirror_mode": {
    "name": "ipython",
    "version": 3
   },
   "file_extension": ".py",
   "mimetype": "text/x-python",
   "name": "python",
   "nbconvert_exporter": "python",
   "pygments_lexer": "ipython3",
   "version": "3.9.12"
  }
 },
 "nbformat": 4,
 "nbformat_minor": 4
}
