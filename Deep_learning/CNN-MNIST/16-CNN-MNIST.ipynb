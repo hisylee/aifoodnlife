{
 "cells": [
  {
   "cell_type": "code",
   "execution_count": 1,
   "id": "0b7154a8",
   "metadata": {},
   "outputs": [],
   "source": [
    "from tensorflow.keras.models import Sequential\n",
    "from tensorflow.keras.layers import Conv2D, MaxPooling2D, Flatten, Dense\n",
    "from tensorflow.keras.datasets import mnist\n",
    "from tensorflow.keras.utils import to_categorical\n",
    "from tensorflow.keras.optimizers import Adam"
   ]
  },
  {
   "cell_type": "code",
   "execution_count": 2,
   "id": "aa01618b",
   "metadata": {},
   "outputs": [
    {
     "name": "stdout",
     "output_type": "stream",
     "text": [
      "(60000, 28, 28)\n",
      "(60000,)\n",
      "(10000, 28, 28)\n",
      "(10000,)\n"
     ]
    }
   ],
   "source": [
    "# 1. Load MNIST dataset\n",
    "\n",
    "(x_data_train, y_data_train), (x_data_test, y_data_test) = mnist.load_data()\n",
    "\n",
    "print (x_data_train.shape)\n",
    "print (y_data_train.shape)\n",
    "print (x_data_test.shape)\n",
    "print (y_data_test.shape)"
   ]
  },
  {
   "cell_type": "code",
   "execution_count": 3,
   "id": "cc423e48",
   "metadata": {},
   "outputs": [],
   "source": [
    "# 2. Data preprocessing\n",
    "\n",
    "x_train = x_data_train.astype(\"float32\") / 255.0\n",
    "x_test = x_data_test.astype(\"float32\") / 255.0\n",
    "\n",
    "y_train = to_categorical(y_data_train, 10)\n",
    "y_test = to_categorical(y_data_test, 10)"
   ]
  },
  {
   "cell_type": "code",
   "execution_count": 4,
   "id": "11e583b6",
   "metadata": {},
   "outputs": [
    {
     "name": "stdout",
     "output_type": "stream",
     "text": [
      "(28, 28)\n",
      "(28, 28, 1)\n"
     ]
    }
   ],
   "source": [
    "# reshape to (28, 28, 1) for Conv2D\n",
    "\n",
    "x_train = x_train.reshape(-1, 28, 28, 1)\n",
    "x_test = x_test.reshape(-1, 28, 28, 1)\n",
    "\n",
    "print (x_data_train[1].shape)\n",
    "print (x_train[1].shape)"
   ]
  },
  {
   "cell_type": "code",
   "execution_count": 5,
   "id": "6dd33da6",
   "metadata": {},
   "outputs": [],
   "source": [
    "# 3. CNN model definition (Sequential + add())\n",
    "\n",
    "model = Sequential()\n",
    "model.add(Conv2D(32, kernel_size=(3, 3), activation='relu', input_shape=(28, 28, 1), padding='valid', name='conv_1'))\n",
    "model.add(MaxPooling2D(pool_size=(2, 2), name='pool_1'))\n",
    "\n",
    "model.add(Conv2D(64, kernel_size=(3, 3), activation='relu', padding='valid', name='conv_2'))\n",
    "model.add(MaxPooling2D(pool_size=(2, 2), name='pool_2'))\n",
    "\n",
    "model.add(Flatten(name='flatten'))\n",
    "model.add(Dense(64, activation='relu', name='hidden_fc'))\n",
    "model.add(Dense(10, activation='softmax', name='output'))\n"
   ]
  },
  {
   "cell_type": "code",
   "execution_count": 6,
   "id": "4bd3c4e2",
   "metadata": {},
   "outputs": [
    {
     "name": "stdout",
     "output_type": "stream",
     "text": [
      "Model: \"sequential\"\n",
      "_________________________________________________________________\n",
      " Layer (type)                Output Shape              Param #   \n",
      "=================================================================\n",
      " conv_1 (Conv2D)             (None, 26, 26, 32)        320       \n",
      "                                                                 \n",
      " pool_1 (MaxPooling2D)       (None, 13, 13, 32)        0         \n",
      "                                                                 \n",
      " conv_2 (Conv2D)             (None, 11, 11, 64)        18496     \n",
      "                                                                 \n",
      " pool_2 (MaxPooling2D)       (None, 5, 5, 64)          0         \n",
      "                                                                 \n",
      " flatten (Flatten)           (None, 1600)              0         \n",
      "                                                                 \n",
      " hidden_fc (Dense)           (None, 64)                102464    \n",
      "                                                                 \n",
      " output (Dense)              (None, 10)                650       \n",
      "                                                                 \n",
      "=================================================================\n",
      "Total params: 121,930\n",
      "Trainable params: 121,930\n",
      "Non-trainable params: 0\n",
      "_________________________________________________________________\n"
     ]
    }
   ],
   "source": [
    "model.summary()"
   ]
  },
  {
   "cell_type": "code",
   "execution_count": 7,
   "id": "e80a8ecd",
   "metadata": {},
   "outputs": [],
   "source": [
    "# 4. Compile\n",
    "\n",
    "optimizer = Adam(learning_rate=0.001) \n",
    "\n",
    "model.compile (loss = 'categorical_crossentropy',\n",
    "              optimizer = optimizer,\n",
    "               metrics = ['accuracy']\n",
    "              )"
   ]
  },
  {
   "cell_type": "code",
   "execution_count": 8,
   "id": "656b2a9a",
   "metadata": {},
   "outputs": [
    {
     "name": "stdout",
     "output_type": "stream",
     "text": [
      "Epoch 1/30\n",
      "1313/1313 [==============================] - 93s 51ms/step - loss: 0.1715 - accuracy: 0.9481 - val_loss: 0.0700 - val_accuracy: 0.9793\n",
      "Epoch 2/30\n",
      "1313/1313 [==============================] - 54s 41ms/step - loss: 0.0535 - accuracy: 0.9837 - val_loss: 0.0525 - val_accuracy: 0.9834\n",
      "Epoch 3/30\n",
      "1313/1313 [==============================] - 61s 47ms/step - loss: 0.0361 - accuracy: 0.9886 - val_loss: 0.0497 - val_accuracy: 0.9857\n",
      "Epoch 4/30\n",
      "1313/1313 [==============================] - 61s 47ms/step - loss: 0.0270 - accuracy: 0.9917 - val_loss: 0.0472 - val_accuracy: 0.9860\n",
      "Epoch 5/30\n",
      "1313/1313 [==============================] - 61s 47ms/step - loss: 0.0209 - accuracy: 0.9933 - val_loss: 0.0505 - val_accuracy: 0.9856\n",
      "Epoch 6/30\n",
      "1313/1313 [==============================] - 66s 50ms/step - loss: 0.0149 - accuracy: 0.9950 - val_loss: 0.0474 - val_accuracy: 0.9872\n",
      "Epoch 7/30\n",
      "1313/1313 [==============================] - 60s 46ms/step - loss: 0.0126 - accuracy: 0.9957 - val_loss: 0.0467 - val_accuracy: 0.9879\n",
      "Epoch 8/30\n",
      "1313/1313 [==============================] - 63s 48ms/step - loss: 0.0126 - accuracy: 0.9957 - val_loss: 0.0547 - val_accuracy: 0.9862\n",
      "Epoch 9/30\n",
      "1313/1313 [==============================] - 54s 41ms/step - loss: 0.0080 - accuracy: 0.9972 - val_loss: 0.0572 - val_accuracy: 0.9870\n",
      "Epoch 10/30\n",
      "1313/1313 [==============================] - 62s 48ms/step - loss: 0.0084 - accuracy: 0.9969 - val_loss: 0.0441 - val_accuracy: 0.9885\n",
      "Epoch 11/30\n",
      "1313/1313 [==============================] - 53s 36ms/step - loss: 0.0065 - accuracy: 0.9979 - val_loss: 0.0474 - val_accuracy: 0.9894\n",
      "Epoch 12/30\n",
      "1313/1313 [==============================] - 68s 51ms/step - loss: 0.0061 - accuracy: 0.9980 - val_loss: 0.0613 - val_accuracy: 0.9874\n",
      "Epoch 13/30\n",
      "1313/1313 [==============================] - 61s 46ms/step - loss: 0.0050 - accuracy: 0.9986 - val_loss: 0.0565 - val_accuracy: 0.9882\n",
      "Epoch 14/30\n",
      "1313/1313 [==============================] - 68s 52ms/step - loss: 0.0054 - accuracy: 0.9982 - val_loss: 0.0717 - val_accuracy: 0.9868\n",
      "Epoch 15/30\n",
      "1313/1313 [==============================] - 61s 46ms/step - loss: 0.0050 - accuracy: 0.9984 - val_loss: 0.0686 - val_accuracy: 0.9879\n",
      "Epoch 16/30\n",
      "1313/1313 [==============================] - 67s 51ms/step - loss: 0.0033 - accuracy: 0.9989 - val_loss: 0.0698 - val_accuracy: 0.9868\n",
      "Epoch 17/30\n",
      "1313/1313 [==============================] - 67s 51ms/step - loss: 0.0051 - accuracy: 0.9984 - val_loss: 0.0624 - val_accuracy: 0.9888\n",
      "Epoch 18/30\n",
      "1313/1313 [==============================] - 66s 51ms/step - loss: 0.0027 - accuracy: 0.9991 - val_loss: 0.0668 - val_accuracy: 0.9886\n",
      "Epoch 19/30\n",
      "1313/1313 [==============================] - 61s 46ms/step - loss: 0.0066 - accuracy: 0.9981 - val_loss: 0.0699 - val_accuracy: 0.9891\n",
      "Epoch 20/30\n",
      "1313/1313 [==============================] - 55s 42ms/step - loss: 0.0026 - accuracy: 0.9991 - val_loss: 0.0600 - val_accuracy: 0.9900\n",
      "Epoch 21/30\n",
      "1313/1313 [==============================] - 52s 40ms/step - loss: 0.0037 - accuracy: 0.9989 - val_loss: 0.0868 - val_accuracy: 0.9871\n",
      "Epoch 22/30\n",
      "1313/1313 [==============================] - 50s 38ms/step - loss: 0.0032 - accuracy: 0.9990 - val_loss: 0.0629 - val_accuracy: 0.9898\n",
      "Epoch 23/30\n",
      "1313/1313 [==============================] - 55s 42ms/step - loss: 0.0037 - accuracy: 0.9987 - val_loss: 0.0766 - val_accuracy: 0.9881\n",
      "Epoch 24/30\n",
      "1313/1313 [==============================] - 60s 46ms/step - loss: 0.0051 - accuracy: 0.9983 - val_loss: 0.0733 - val_accuracy: 0.9885\n",
      "Epoch 25/30\n",
      "1313/1313 [==============================] - 67s 51ms/step - loss: 0.0017 - accuracy: 0.9993 - val_loss: 0.0848 - val_accuracy: 0.9886\n",
      "Epoch 26/30\n",
      "1313/1313 [==============================] - 17s 13ms/step - loss: 0.0050 - accuracy: 0.9984 - val_loss: 0.0802 - val_accuracy: 0.9878\n",
      "Epoch 27/30\n",
      "1313/1313 [==============================] - 11s 9ms/step - loss: 0.0020 - accuracy: 0.9994 - val_loss: 0.1014 - val_accuracy: 0.9853\n",
      "Epoch 28/30\n",
      "1313/1313 [==============================] - 9s 7ms/step - loss: 0.0035 - accuracy: 0.9990 - val_loss: 0.0693 - val_accuracy: 0.9898\n",
      "Epoch 29/30\n",
      "1313/1313 [==============================] - 10s 7ms/step - loss: 0.0022 - accuracy: 0.9992 - val_loss: 0.0946 - val_accuracy: 0.9886\n",
      "Epoch 30/30\n",
      "1313/1313 [==============================] - 10s 8ms/step - loss: 0.0038 - accuracy: 0.9987 - val_loss: 0.0887 - val_accuracy: 0.9877\n"
     ]
    }
   ],
   "source": [
    "# 5. Training\n",
    "\n",
    "learning = model.fit(x_train, y_train,\n",
    "                   epochs = 30, \n",
    "                    batch_size = 32,\n",
    "                    validation_split = 0.3)"
   ]
  },
  {
   "cell_type": "code",
   "execution_count": 9,
   "id": "e3a8e62b",
   "metadata": {},
   "outputs": [
    {
     "name": "stdout",
     "output_type": "stream",
     "text": [
      "313/313 [==============================] - 1s 4ms/step - loss: 0.0665 - accuracy: 0.9892\n",
      "Test loss: 0.0665\n",
      "Test accuracy: 0.9892\n"
     ]
    }
   ],
   "source": [
    "# 6. Evaluation\n",
    "test_loss, test_acc = model.evaluate(x_test, y_test)\n",
    "print(f\"Test loss: {test_loss:.4f}\")\n",
    "print(f\"Test accuracy: {test_acc:.4f}\")"
   ]
  },
  {
   "cell_type": "code",
   "execution_count": null,
   "id": "cfacd89a",
   "metadata": {},
   "outputs": [],
   "source": []
  }
 ],
 "metadata": {
  "kernelspec": {
   "display_name": "Python 3 (ipykernel)",
   "language": "python",
   "name": "python3"
  },
  "language_info": {
   "codemirror_mode": {
    "name": "ipython",
    "version": 3
   },
   "file_extension": ".py",
   "mimetype": "text/x-python",
   "name": "python",
   "nbconvert_exporter": "python",
   "pygments_lexer": "ipython3",
   "version": "3.9.12"
  }
 },
 "nbformat": 4,
 "nbformat_minor": 5
}
