{
 "cells": [
  {
   "cell_type": "code",
   "execution_count": 16,
   "id": "0b7154a8",
   "metadata": {},
   "outputs": [],
   "source": [
    "from tensorflow.keras.models import Sequential\n",
    "from tensorflow.keras.layers import Conv2D, MaxPooling2D, Flatten, Dense\n",
    "from tensorflow.keras.datasets import mnist\n",
    "from tensorflow.keras.utils import to_categorical\n",
    "from tensorflow.keras.optimizers import Adam"
   ]
  },
  {
   "cell_type": "code",
   "execution_count": 17,
   "id": "aa01618b",
   "metadata": {},
   "outputs": [
    {
     "name": "stdout",
     "output_type": "stream",
     "text": [
      "(60000, 28, 28)\n",
      "(60000,)\n",
      "(10000, 28, 28)\n",
      "(10000,)\n"
     ]
    }
   ],
   "source": [
    "# 1. Load MNIST dataset\n",
    "\n",
    "(x_data_train, y_data_train), (x_data_test, y_data_test) = mnist.load_data()\n",
    "\n",
    "print (x_data_train.shape)\n",
    "print (y_data_train.shape)\n",
    "print (x_data_test.shape)\n",
    "print (y_data_test.shape)"
   ]
  },
  {
   "cell_type": "code",
   "execution_count": 18,
   "id": "cc423e48",
   "metadata": {},
   "outputs": [],
   "source": [
    "# 2. Data preprocessing\n",
    "\n",
    "x_train = x_data_train.astype(\"float32\") / 255.0\n",
    "x_test = x_data_test.astype(\"float32\") / 255.0\n",
    "\n",
    "y_train = to_categorical(y_data_train, 10)\n",
    "y_test = to_categorical(y_data_test, 10)"
   ]
  },
  {
   "cell_type": "code",
   "execution_count": 21,
   "id": "11e583b6",
   "metadata": {},
   "outputs": [
    {
     "name": "stdout",
     "output_type": "stream",
     "text": [
      "(28, 28)\n",
      "(28, 28, 1)\n"
     ]
    }
   ],
   "source": [
    "# reshape to (28, 28, 1) for Conv2D\n",
    "\n",
    "x_train = x_train.reshape(-1, 28, 28, 1)\n",
    "x_test = x_test.reshape(-1, 28, 28, 1)\n",
    "\n",
    "print (x_data_train[1].shape)\n",
    "print (x_train[1].shape)"
   ]
  },
  {
   "cell_type": "code",
   "execution_count": 23,
   "id": "6dd33da6",
   "metadata": {},
   "outputs": [
    {
     "name": "stdout",
     "output_type": "stream",
     "text": [
      "Model: \"sequential_4\"\n",
      "_________________________________________________________________\n",
      " Layer (type)                Output Shape              Param #   \n",
      "=================================================================\n",
      " conv_1 (Conv2D)             (None, 26, 26, 32)        320       \n",
      "                                                                 \n",
      " pool_1 (MaxPooling2D)       (None, 13, 13, 32)        0         \n",
      "                                                                 \n",
      " conv_2 (Conv2D)             (None, 11, 11, 64)        18496     \n",
      "                                                                 \n",
      " pool_2 (MaxPooling2D)       (None, 5, 5, 64)          0         \n",
      "                                                                 \n",
      " flatten (Flatten)           (None, 1600)              0         \n",
      "                                                                 \n",
      " hidden_fc (Dense)           (None, 64)                102464    \n",
      "                                                                 \n",
      " output (Dense)              (None, 10)                650       \n",
      "                                                                 \n",
      "=================================================================\n",
      "Total params: 121,930\n",
      "Trainable params: 121,930\n",
      "Non-trainable params: 0\n",
      "_________________________________________________________________\n"
     ]
    }
   ],
   "source": [
    "# 3. CNN model definition (Sequential + add())\n",
    "\n",
    "model = Sequential()\n",
    "model.add(Conv2D(32, kernel_size=(3, 3), activation='relu', input_shape=(28, 28, 1), padding='valid', name='conv_1'))\n",
    "model.add(MaxPooling2D(pool_size=(2, 2), name='pool_1'))\n",
    "\n",
    "model.add(Conv2D(64, kernel_size=(3, 3), activation='relu', padding='valid', name='conv_2'))\n",
    "model.add(MaxPooling2D(pool_size=(2, 2), name='pool_2'))\n",
    "\n",
    "model.add(Flatten(name='flatten'))\n",
    "model.add(Dense(64, activation='relu', name='hidden_fc'))\n",
    "model.add(Dense(10, activation='softmax', name='output'))\n"
   ]
  },
  {
   "cell_type": "code",
   "execution_count": null,
   "id": "4bd3c4e2",
   "metadata": {},
   "outputs": [],
   "source": [
    "model.summary()"
   ]
  },
  {
   "cell_type": "code",
   "execution_count": 24,
   "id": "e80a8ecd",
   "metadata": {},
   "outputs": [],
   "source": [
    "# 4. Compile\n",
    "\n",
    "optimizer = Adam(learning_rate=0.001) \n",
    "\n",
    "model.compile (loss = 'categorical_crossentropy',\n",
    "              optimizer = optimizer,\n",
    "               metrics = ['accuracy']\n",
    "              )"
   ]
  },
  {
   "cell_type": "code",
   "execution_count": null,
   "id": "656b2a9a",
   "metadata": {},
   "outputs": [
    {
     "name": "stdout",
     "output_type": "stream",
     "text": [
      "Epoch 1/30\n",
      "1313/1313 [==============================] - 13s 10ms/step - loss: 0.1693 - accuracy: 0.9493 - val_loss: 0.0704 - val_accuracy: 0.9784\n",
      "Epoch 2/30\n",
      "1313/1313 [==============================] - 12s 9ms/step - loss: 0.0544 - accuracy: 0.9827 - val_loss: 0.0483 - val_accuracy: 0.9854\n",
      "Epoch 3/30\n",
      "1313/1313 [==============================] - 11s 9ms/step - loss: 0.0360 - accuracy: 0.9880 - val_loss: 0.0514 - val_accuracy: 0.9838\n",
      "Epoch 4/30\n",
      "1313/1313 [==============================] - 12s 9ms/step - loss: 0.0258 - accuracy: 0.9916 - val_loss: 0.0601 - val_accuracy: 0.9832\n",
      "Epoch 5/30\n",
      "1313/1313 [==============================] - 12s 9ms/step - loss: 0.0198 - accuracy: 0.9937 - val_loss: 0.0435 - val_accuracy: 0.9878\n",
      "Epoch 6/30\n",
      "1313/1313 [==============================] - 12s 9ms/step - loss: 0.0151 - accuracy: 0.9953 - val_loss: 0.0544 - val_accuracy: 0.9857\n",
      "Epoch 7/30\n",
      "1313/1313 [==============================] - 12s 9ms/step - loss: 0.0133 - accuracy: 0.9954 - val_loss: 0.0508 - val_accuracy: 0.9878\n",
      "Epoch 8/30\n",
      "1313/1313 [==============================] - 12s 9ms/step - loss: 0.0095 - accuracy: 0.9968 - val_loss: 0.0577 - val_accuracy: 0.9866\n",
      "Epoch 9/30\n",
      "1313/1313 [==============================] - 12s 9ms/step - loss: 0.0105 - accuracy: 0.9964 - val_loss: 0.0502 - val_accuracy: 0.9882\n",
      "Epoch 10/30\n",
      "1313/1313 [==============================] - 11s 9ms/step - loss: 0.0078 - accuracy: 0.9974 - val_loss: 0.0544 - val_accuracy: 0.9878\n",
      "Epoch 11/30\n",
      "1313/1313 [==============================] - 12s 9ms/step - loss: 0.0053 - accuracy: 0.9980 - val_loss: 0.0586 - val_accuracy: 0.9887\n",
      "Epoch 12/30\n",
      "1313/1313 [==============================] - 13s 10ms/step - loss: 0.0065 - accuracy: 0.9977 - val_loss: 0.0519 - val_accuracy: 0.9887\n",
      "Epoch 13/30\n",
      "1313/1313 [==============================] - 13s 10ms/step - loss: 0.0039 - accuracy: 0.9986 - val_loss: 0.0553 - val_accuracy: 0.9895\n",
      "Epoch 14/30\n",
      "1313/1313 [==============================] - 13s 10ms/step - loss: 0.0070 - accuracy: 0.9978 - val_loss: 0.0565 - val_accuracy: 0.9891\n",
      "Epoch 15/30\n",
      "1313/1313 [==============================] - 12s 9ms/step - loss: 0.0044 - accuracy: 0.9985 - val_loss: 0.0610 - val_accuracy: 0.9880\n",
      "Epoch 16/30\n",
      "1313/1313 [==============================] - 11s 8ms/step - loss: 0.0040 - accuracy: 0.9986 - val_loss: 0.0720 - val_accuracy: 0.9873\n",
      "Epoch 17/30\n",
      "1313/1313 [==============================] - 11s 8ms/step - loss: 0.0046 - accuracy: 0.9986 - val_loss: 0.0615 - val_accuracy: 0.9892\n",
      "Epoch 18/30\n",
      "1313/1313 [==============================] - 12s 9ms/step - loss: 0.0038 - accuracy: 0.9987 - val_loss: 0.0592 - val_accuracy: 0.9892\n",
      "Epoch 19/30\n",
      "1313/1313 [==============================] - 11s 9ms/step - loss: 0.0035 - accuracy: 0.9989 - val_loss: 0.0593 - val_accuracy: 0.9885\n",
      "Epoch 20/30\n",
      "1036/1313 [======================>.......] - ETA: 2s - loss: 0.0030 - accuracy: 0.9988"
     ]
    }
   ],
   "source": [
    "# 5. Training\n",
    "\n",
    "learning = model.fit(x_train, y_train,\n",
    "                   epochs = 30, \n",
    "                    batch_size = 32,\n",
    "                    validation_split = 0.3)"
   ]
  },
  {
   "cell_type": "code",
   "execution_count": 1,
   "id": "e3a8e62b",
   "metadata": {},
   "outputs": [
    {
     "ename": "NameError",
     "evalue": "name 'model' is not defined",
     "output_type": "error",
     "traceback": [
      "\u001b[1;31m---------------------------------------------------------------------------\u001b[0m",
      "\u001b[1;31mNameError\u001b[0m                                 Traceback (most recent call last)",
      "Input \u001b[1;32mIn [1]\u001b[0m, in \u001b[0;36m<cell line: 2>\u001b[1;34m()\u001b[0m\n\u001b[0;32m      1\u001b[0m \u001b[38;5;66;03m# 6. Evaluation\u001b[39;00m\n\u001b[1;32m----> 2\u001b[0m test_loss, test_acc \u001b[38;5;241m=\u001b[39m \u001b[43mmodel\u001b[49m\u001b[38;5;241m.\u001b[39mevaluate(x_test, y_test)\n\u001b[0;32m      3\u001b[0m \u001b[38;5;28mprint\u001b[39m(\u001b[38;5;124mf\u001b[39m\u001b[38;5;124m\"\u001b[39m\u001b[38;5;124mTest loss: \u001b[39m\u001b[38;5;132;01m{\u001b[39;00mtest_loss\u001b[38;5;132;01m:\u001b[39;00m\u001b[38;5;124m.4f\u001b[39m\u001b[38;5;132;01m}\u001b[39;00m\u001b[38;5;124m\"\u001b[39m)\n\u001b[0;32m      4\u001b[0m \u001b[38;5;28mprint\u001b[39m(\u001b[38;5;124mf\u001b[39m\u001b[38;5;124m\"\u001b[39m\u001b[38;5;124mTest accuracy: \u001b[39m\u001b[38;5;132;01m{\u001b[39;00mtest_acc\u001b[38;5;132;01m:\u001b[39;00m\u001b[38;5;124m.4f\u001b[39m\u001b[38;5;132;01m}\u001b[39;00m\u001b[38;5;124m\"\u001b[39m)\n",
      "\u001b[1;31mNameError\u001b[0m: name 'model' is not defined"
     ]
    }
   ],
   "source": [
    "# 6. Evaluation\n",
    "test_loss, test_acc = model.evaluate(x_test, y_test)\n",
    "print(f\"Test loss: {test_loss:.4f}\")\n",
    "print(f\"Test accuracy: {test_acc:.4f}\")"
   ]
  },
  {
   "cell_type": "code",
   "execution_count": null,
   "id": "cfacd89a",
   "metadata": {},
   "outputs": [],
   "source": []
  }
 ],
 "metadata": {
  "kernelspec": {
   "display_name": "Python 3 (ipykernel)",
   "language": "python",
   "name": "python3"
  },
  "language_info": {
   "codemirror_mode": {
    "name": "ipython",
    "version": 3
   },
   "file_extension": ".py",
   "mimetype": "text/x-python",
   "name": "python",
   "nbconvert_exporter": "python",
   "pygments_lexer": "ipython3",
   "version": "3.9.12"
  }
 },
 "nbformat": 4,
 "nbformat_minor": 5
}
