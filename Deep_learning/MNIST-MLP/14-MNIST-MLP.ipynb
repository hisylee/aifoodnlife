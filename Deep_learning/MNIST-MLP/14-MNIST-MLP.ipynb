{
 "cells": [
  {
   "cell_type": "code",
   "execution_count": 1,
   "id": "f2b323af",
   "metadata": {},
   "outputs": [],
   "source": [
    "import numpy as np\n",
    "import sys\n",
    "import matplotlib.pyplot as plt\n",
    "import tensorflow as tf\n",
    "from tensorflow import keras\n",
    "from tensorflow.keras.datasets import mnist\n",
    "from tensorflow.keras.models import Sequential\n",
    "from tensorflow.keras.layers import Dense, Flatten\n",
    "from tensorflow.keras.utils import to_categorical\n",
    "from tensorflow.keras.optimizers import Adam"
   ]
  },
  {
   "cell_type": "code",
   "execution_count": 2,
   "id": "605feb07",
   "metadata": {},
   "outputs": [
    {
     "name": "stdout",
     "output_type": "stream",
     "text": [
      "(60000, 28, 28)\n",
      "(60000,)\n",
      "(10000, 28, 28)\n",
      "(10000,)\n"
     ]
    }
   ],
   "source": [
    "# 1. Load MNIST dataset\n",
    "\n",
    "(x_data_train, y_data_train), (x_data_test, y_data_test) = mnist.load_data()\n",
    "\n",
    "print (x_data_train.shape)\n",
    "print (y_data_train.shape)\n",
    "print (x_data_test.shape)\n",
    "print (y_data_test.shape)"
   ]
  },
  {
   "cell_type": "code",
   "execution_count": 3,
   "id": "70e38c2c",
   "metadata": {},
   "outputs": [
    {
     "name": "stdout",
     "output_type": "stream",
     "text": [
      "0 0 0 0 0 0 0 0 0 0 0 0 0 0 0 0 0 0 0 0 0 0 0 0 0 0 0 0 \n",
      "0 0 0 0 0 0 0 0 0 0 0 0 0 0 0 0 0 0 0 0 0 0 0 0 0 0 0 0 \n",
      "0 0 0 0 0 0 0 0 0 0 0 0 0 0 0 0 0 0 0 0 0 0 0 0 0 0 0 0 \n",
      "0 0 0 0 0 0 0 0 0 0 0 0 0 0 0 0 0 0 0 0 0 0 0 0 0 0 0 0 \n",
      "0 0 0 0 0 0 0 0 0 0 0 0 0 0 0 0 0 0 0 0 0 0 0 0 0 0 0 0 \n",
      "0 0 0 0 0 0 0 0 0 0 0 0 0 0 0 0 138 238 217 68 0 0 0 0 0 0 0 0 \n",
      "0 0 0 0 0 0 0 0 0 0 0 0 0 0 0 150 254 254 254 232 0 0 0 0 0 0 0 0 \n",
      "0 0 0 0 0 0 0 0 0 0 0 0 0 0 63 224 254 145 254 240 22 0 0 0 0 0 0 0 \n",
      "0 0 0 0 0 0 0 0 0 0 0 0 15 160 253 254 254 187 254 180 0 0 0 0 0 0 0 0 \n",
      "0 0 0 0 0 0 0 0 0 0 0 0 184 254 184 207 254 254 248 51 0 0 0 0 0 0 0 0 \n",
      "0 0 0 0 0 0 0 0 0 0 0 123 252 206 17 47 254 254 128 0 0 0 0 0 0 0 0 0 \n",
      "0 0 0 0 0 0 0 0 0 0 0 229 254 43 0 165 254 159 6 0 0 0 0 0 0 0 0 0 \n",
      "0 0 0 0 0 0 0 0 0 0 0 229 237 23 42 235 218 24 0 0 0 0 0 0 0 0 0 0 \n",
      "0 0 0 0 0 0 0 0 0 0 0 213 254 105 212 247 50 0 0 0 0 0 0 0 0 0 0 0 \n",
      "0 0 0 0 0 0 0 0 0 0 0 60 249 254 254 128 0 0 0 0 0 0 0 0 0 0 0 0 \n",
      "0 0 0 0 0 0 0 0 0 0 0 0 139 254 254 163 8 0 0 0 0 0 0 0 0 0 0 0 \n",
      "0 0 0 0 0 0 0 0 0 0 0 0 164 254 243 254 89 0 0 0 0 0 0 0 0 0 0 0 \n",
      "0 0 0 0 0 0 0 0 0 0 0 56 249 177 49 235 202 0 0 0 0 0 0 0 0 0 0 0 \n",
      "0 0 0 0 0 0 0 0 0 0 7 213 249 50 0 212 247 41 0 0 0 0 0 0 0 0 0 0 \n",
      "0 0 0 0 0 0 0 0 0 0 69 254 158 0 0 212 254 52 0 0 0 0 0 0 0 0 0 0 \n",
      "0 0 0 0 0 0 0 0 0 0 212 254 30 0 0 212 254 52 0 0 0 0 0 0 0 0 0 0 \n",
      "0 0 0 0 0 0 0 0 0 4 235 213 8 0 37 243 241 32 0 0 0 0 0 0 0 0 0 0 \n",
      "0 0 0 0 0 0 0 0 0 19 240 200 4 5 193 254 126 0 0 0 0 0 0 0 0 0 0 0 \n",
      "0 0 0 0 0 0 0 0 0 0 232 254 212 218 254 195 15 0 0 0 0 0 0 0 0 0 0 0 \n",
      "0 0 0 0 0 0 0 0 0 0 68 216 254 254 166 14 0 0 0 0 0 0 0 0 0 0 0 0 \n",
      "0 0 0 0 0 0 0 0 0 0 0 0 0 0 0 0 0 0 0 0 0 0 0 0 0 0 0 0 \n",
      "0 0 0 0 0 0 0 0 0 0 0 0 0 0 0 0 0 0 0 0 0 0 0 0 0 0 0 0 \n",
      "0 0 0 0 0 0 0 0 0 0 0 0 0 0 0 0 0 0 0 0 0 0 0 0 0 0 0 0 \n"
     ]
    }
   ],
   "source": [
    "# 2. Display a sample image (index = 300) and its label\n",
    "\n",
    "index = 300\n",
    "\n",
    "for x in x_data_train[index]:\n",
    "    for i in x:\n",
    "        sys.stdout.write('%d ' % i)\n",
    "    sys.stdout.write('\\n')"
   ]
  },
  {
   "cell_type": "code",
   "execution_count": 4,
   "id": "1b7d02f7",
   "metadata": {},
   "outputs": [
    {
     "data": {
      "image/png": "[encoded data removed]",
      "text/plain": [
       "<Figure size 432x288 with 1 Axes>"
      ]
     },
     "metadata": {
      "needs_background": "light"
     },
     "output_type": "display_data"
    },
    {
     "name": "stdout",
     "output_type": "stream",
     "text": [
      "8\n"
     ]
    }
   ],
   "source": [
    "plt.imshow(x_data_train[index], cmap='Greys')\n",
    "plt.show()\n",
    "print (y_data_train[index])"
   ]
  },
  {
   "cell_type": "code",
   "execution_count": 5,
   "id": "3ea0547f",
   "metadata": {},
   "outputs": [
    {
     "name": "stdout",
     "output_type": "stream",
     "text": [
      "[[[0. 0. 0. ... 0. 0. 0.]\n",
      "  [0. 0. 0. ... 0. 0. 0.]\n",
      "  [0. 0. 0. ... 0. 0. 0.]\n",
      "  ...\n",
      "  [0. 0. 0. ... 0. 0. 0.]\n",
      "  [0. 0. 0. ... 0. 0. 0.]\n",
      "  [0. 0. 0. ... 0. 0. 0.]]\n",
      "\n",
      " [[0. 0. 0. ... 0. 0. 0.]\n",
      "  [0. 0. 0. ... 0. 0. 0.]\n",
      "  [0. 0. 0. ... 0. 0. 0.]\n",
      "  ...\n",
      "  [0. 0. 0. ... 0. 0. 0.]\n",
      "  [0. 0. 0. ... 0. 0. 0.]\n",
      "  [0. 0. 0. ... 0. 0. 0.]]\n",
      "\n",
      " [[0. 0. 0. ... 0. 0. 0.]\n",
      "  [0. 0. 0. ... 0. 0. 0.]\n",
      "  [0. 0. 0. ... 0. 0. 0.]\n",
      "  ...\n",
      "  [0. 0. 0. ... 0. 0. 0.]\n",
      "  [0. 0. 0. ... 0. 0. 0.]\n",
      "  [0. 0. 0. ... 0. 0. 0.]]\n",
      "\n",
      " ...\n",
      "\n",
      " [[0. 0. 0. ... 0. 0. 0.]\n",
      "  [0. 0. 0. ... 0. 0. 0.]\n",
      "  [0. 0. 0. ... 0. 0. 0.]\n",
      "  ...\n",
      "  [0. 0. 0. ... 0. 0. 0.]\n",
      "  [0. 0. 0. ... 0. 0. 0.]\n",
      "  [0. 0. 0. ... 0. 0. 0.]]\n",
      "\n",
      " [[0. 0. 0. ... 0. 0. 0.]\n",
      "  [0. 0. 0. ... 0. 0. 0.]\n",
      "  [0. 0. 0. ... 0. 0. 0.]\n",
      "  ...\n",
      "  [0. 0. 0. ... 0. 0. 0.]\n",
      "  [0. 0. 0. ... 0. 0. 0.]\n",
      "  [0. 0. 0. ... 0. 0. 0.]]\n",
      "\n",
      " [[0. 0. 0. ... 0. 0. 0.]\n",
      "  [0. 0. 0. ... 0. 0. 0.]\n",
      "  [0. 0. 0. ... 0. 0. 0.]\n",
      "  ...\n",
      "  [0. 0. 0. ... 0. 0. 0.]\n",
      "  [0. 0. 0. ... 0. 0. 0.]\n",
      "  [0. 0. 0. ... 0. 0. 0.]]]\n"
     ]
    }
   ],
   "source": [
    "# 3. Normalize the image data (0~255 → 0~1)\n",
    "x_train = x_data_train.astype(\"float32\") / 255.0\n",
    "x_test = x_data_test.astype(\"float32\") / 255.0\n",
    "\n",
    "print (x_test)"
   ]
  },
  {
   "cell_type": "code",
   "execution_count": 6,
   "id": "13b4e57d",
   "metadata": {},
   "outputs": [
    {
     "name": "stdout",
     "output_type": "stream",
     "text": [
      "7 [0. 0. 0. 0. 0. 0. 0. 1. 0. 0.]\n"
     ]
    }
   ],
   "source": [
    "# 4. One-hot encode the labels\n",
    "y_train = to_categorical(y_data_train, 10)\n",
    "y_test = to_categorical(y_data_test, 10)\n",
    "\n",
    "print (y_data_test[0], y_test[0])"
   ]
  },
  {
   "cell_type": "code",
   "execution_count": 7,
   "id": "aae7e98d",
   "metadata": {},
   "outputs": [
    {
     "name": "stdout",
     "output_type": "stream",
     "text": [
      "Model: \"sequential\"\n",
      "_________________________________________________________________\n",
      " Layer (type)                Output Shape              Param #   \n",
      "=================================================================\n",
      " flatten (Flatten)           (None, 784)               0         \n",
      "                                                                 \n",
      " hidden_1 (Dense)            (None, 128)               100480    \n",
      "                                                                 \n",
      " hidden_2 (Dense)            (None, 64)                8256      \n",
      "                                                                 \n",
      " output (Dense)              (None, 10)                650       \n",
      "                                                                 \n",
      "=================================================================\n",
      "Total params: 109,386\n",
      "Trainable params: 109,386\n",
      "Non-trainable params: 0\n",
      "_________________________________________________________________\n"
     ]
    }
   ],
   "source": [
    "# 5. Define MLP model using add() method\n",
    "\n",
    "model = Sequential()\n",
    "model.add(Flatten(input_shape=(28, 28)))       # Flatten 2D image (28x28) to 1D vector (784)\n",
    "model.add(Dense(128, activation='relu', name = 'hidden_1'))       # First hidden layer with 128 units\n",
    "model.add(Dense(64, activation='relu', name = 'hidden_2'))        # Second hidden layer with 64 units\n",
    "model.add(Dense(10, activation='softmax', name = 'output'))     # Output layer for 10 classes\n",
    "\n",
    "model.summary()"
   ]
  },
  {
   "cell_type": "code",
   "execution_count": 8,
   "id": "fdfacb6e",
   "metadata": {},
   "outputs": [],
   "source": [
    "# 6. Compile the model\n",
    "\n",
    "optimizer = Adam(learning_rate=0.001) \n",
    "\n",
    "model.compile (loss = 'categorical_crossentropy',\n",
    "              optimizer = optimizer,\n",
    "               metrics = ['accuracy']\n",
    "              )"
   ]
  },
  {
   "cell_type": "code",
   "execution_count": 9,
   "id": "7e2669c6",
   "metadata": {},
   "outputs": [
    {
     "name": "stdout",
     "output_type": "stream",
     "text": [
      "Epoch 1/30\n",
      "1313/1313 [==============================] - 9s 6ms/step - loss: 0.2889 - accuracy: 0.9174 - val_loss: 0.1710 - val_accuracy: 0.9498\n",
      "Epoch 2/30\n",
      "1313/1313 [==============================] - 7s 5ms/step - loss: 0.1219 - accuracy: 0.9634 - val_loss: 0.1268 - val_accuracy: 0.9616\n",
      "Epoch 3/30\n",
      "1313/1313 [==============================] - 6s 5ms/step - loss: 0.0851 - accuracy: 0.9735 - val_loss: 0.1075 - val_accuracy: 0.9681\n",
      "Epoch 4/30\n",
      "1313/1313 [==============================] - 6s 5ms/step - loss: 0.0643 - accuracy: 0.9788 - val_loss: 0.1111 - val_accuracy: 0.9679\n",
      "Epoch 5/30\n",
      "1313/1313 [==============================] - 7s 5ms/step - loss: 0.0478 - accuracy: 0.9849 - val_loss: 0.1040 - val_accuracy: 0.9701\n",
      "Epoch 6/30\n",
      "1313/1313 [==============================] - 8s 6ms/step - loss: 0.0377 - accuracy: 0.9878 - val_loss: 0.1216 - val_accuracy: 0.9678\n",
      "Epoch 7/30\n",
      "1313/1313 [==============================] - 8s 6ms/step - loss: 0.0329 - accuracy: 0.9892 - val_loss: 0.1106 - val_accuracy: 0.9708\n",
      "Epoch 8/30\n",
      "1313/1313 [==============================] - 7s 5ms/step - loss: 0.0248 - accuracy: 0.9921 - val_loss: 0.1158 - val_accuracy: 0.9696\n",
      "Epoch 9/30\n",
      "1313/1313 [==============================] - 7s 6ms/step - loss: 0.0210 - accuracy: 0.9929 - val_loss: 0.1156 - val_accuracy: 0.9723\n",
      "Epoch 10/30\n",
      "1313/1313 [==============================] - 8s 6ms/step - loss: 0.0205 - accuracy: 0.9931 - val_loss: 0.1293 - val_accuracy: 0.9709\n",
      "Epoch 11/30\n",
      "1313/1313 [==============================] - 7s 5ms/step - loss: 0.0183 - accuracy: 0.9940 - val_loss: 0.1190 - val_accuracy: 0.9738\n",
      "Epoch 12/30\n",
      "1313/1313 [==============================] - 9s 6ms/step - loss: 0.0155 - accuracy: 0.9946 - val_loss: 0.1677 - val_accuracy: 0.9671\n",
      "Epoch 13/30\n",
      "1313/1313 [==============================] - 7s 6ms/step - loss: 0.0131 - accuracy: 0.9957 - val_loss: 0.1293 - val_accuracy: 0.9711\n",
      "Epoch 14/30\n",
      "1313/1313 [==============================] - 8s 6ms/step - loss: 0.0107 - accuracy: 0.9968 - val_loss: 0.1365 - val_accuracy: 0.9724\n",
      "Epoch 15/30\n",
      "1313/1313 [==============================] - 8s 6ms/step - loss: 0.0151 - accuracy: 0.9949 - val_loss: 0.1469 - val_accuracy: 0.9712\n",
      "Epoch 16/30\n",
      "1313/1313 [==============================] - 8s 6ms/step - loss: 0.0106 - accuracy: 0.9967 - val_loss: 0.1979 - val_accuracy: 0.9668\n",
      "Epoch 17/30\n",
      "1313/1313 [==============================] - 8s 6ms/step - loss: 0.0139 - accuracy: 0.9954 - val_loss: 0.1333 - val_accuracy: 0.9755\n",
      "Epoch 18/30\n",
      "1313/1313 [==============================] - 9s 7ms/step - loss: 0.0131 - accuracy: 0.9958 - val_loss: 0.1511 - val_accuracy: 0.9749\n",
      "Epoch 19/30\n",
      "1313/1313 [==============================] - 9s 7ms/step - loss: 0.0081 - accuracy: 0.9975 - val_loss: 0.1533 - val_accuracy: 0.9732\n",
      "Epoch 20/30\n",
      "1313/1313 [==============================] - 7s 6ms/step - loss: 0.0114 - accuracy: 0.9962 - val_loss: 0.1680 - val_accuracy: 0.9722\n",
      "Epoch 21/30\n",
      "1313/1313 [==============================] - 8s 6ms/step - loss: 0.0066 - accuracy: 0.9976 - val_loss: 0.1797 - val_accuracy: 0.9726\n",
      "Epoch 22/30\n",
      "1313/1313 [==============================] - 8s 6ms/step - loss: 0.0115 - accuracy: 0.9964 - val_loss: 0.1525 - val_accuracy: 0.9758\n",
      "Epoch 23/30\n",
      "1313/1313 [==============================] - 7s 6ms/step - loss: 0.0059 - accuracy: 0.9980 - val_loss: 0.1838 - val_accuracy: 0.9727\n",
      "Epoch 24/30\n",
      "1313/1313 [==============================] - 8s 6ms/step - loss: 0.0115 - accuracy: 0.9964 - val_loss: 0.1751 - val_accuracy: 0.9734\n",
      "Epoch 25/30\n",
      "1313/1313 [==============================] - 8s 6ms/step - loss: 0.0080 - accuracy: 0.9975 - val_loss: 0.1755 - val_accuracy: 0.9737\n",
      "Epoch 26/30\n",
      "1313/1313 [==============================] - 8s 6ms/step - loss: 0.0095 - accuracy: 0.9968 - val_loss: 0.1727 - val_accuracy: 0.9752\n",
      "Epoch 27/30\n",
      "1313/1313 [==============================] - 8s 6ms/step - loss: 0.0054 - accuracy: 0.9984 - val_loss: 0.1789 - val_accuracy: 0.9762\n",
      "Epoch 28/30\n",
      "1313/1313 [==============================] - 8s 6ms/step - loss: 0.0122 - accuracy: 0.9965 - val_loss: 0.1685 - val_accuracy: 0.9746\n",
      "Epoch 29/30\n",
      "1313/1313 [==============================] - 8s 6ms/step - loss: 0.0054 - accuracy: 0.9982 - val_loss: 0.1841 - val_accuracy: 0.9732\n",
      "Epoch 30/30\n",
      "1313/1313 [==============================] - 9s 7ms/step - loss: 0.0082 - accuracy: 0.9975 - val_loss: 0.1747 - val_accuracy: 0.9757\n"
     ]
    }
   ],
   "source": [
    "# 6. Train the model using 30% of training data as validation\n",
    "\n",
    "learning = model.fit(x_train, y_train,\n",
    "                   epochs = 30, \n",
    "                    batch_size = 32,\n",
    "                    validation_split = 0.3)"
   ]
  },
  {
   "cell_type": "code",
   "execution_count": 12,
   "id": "2029c753",
   "metadata": {},
   "outputs": [
    {
     "name": "stdout",
     "output_type": "stream",
     "text": [
      "313/313 [==============================] - 1s 4ms/step - loss: 0.1321 - accuracy: 0.9790\n",
      "Test loss: 0.1321\n",
      "Test accuracy: 0.9790\n"
     ]
    }
   ],
   "source": [
    "# 모델 평가 및 예측\n",
    "\n",
    "test_loss, test_acc = model.evaluate(x_test, y_test)\n",
    "print(f\"Test loss: {test_loss:.4f}\")\n",
    "print(f\"Test accuracy: {test_acc:.4f}\")\n"
   ]
  },
  {
   "cell_type": "code",
   "execution_count": null,
   "id": "7f9b4594",
   "metadata": {},
   "outputs": [],
   "source": []
  }
 ],
 "metadata": {
  "kernelspec": {
   "display_name": "Python 3 (ipykernel)",
   "language": "python",
   "name": "python3"
  },
  "language_info": {
   "codemirror_mode": {
    "name": "ipython",
    "version": 3
   },
   "file_extension": ".py",
   "mimetype": "text/x-python",
   "name": "python",
   "nbconvert_exporter": "python",
   "pygments_lexer": "ipython3",
   "version": "3.9.12"
  }
 },
 "nbformat": 4,
 "nbformat_minor": 5
}
