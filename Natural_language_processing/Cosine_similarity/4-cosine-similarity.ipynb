{
 "cells": [
  {
   "cell_type": "markdown",
   "id": "6ae8cd59",
   "metadata": {},
   "source": [
    "# Cosine similarity"
   ]
  },
  {
   "cell_type": "code",
   "execution_count": 1,
   "id": "b084c7d6",
   "metadata": {},
   "outputs": [],
   "source": [
    "import numpy as np\n",
    "from numpy import dot\n",
    "from numpy.linalg import norm\n",
    "from sklearn.feature_extraction.text import CountVectorizer"
   ]
  },
  {
   "cell_type": "code",
   "execution_count": 7,
   "id": "51ae13e3",
   "metadata": {},
   "outputs": [
    {
     "name": "stdout",
     "output_type": "stream",
     "text": [
      "[[1 0 0 0 1 0 1]\n",
      " [1 0 0 1 1 1 0]\n",
      " [0 1 1 1 1 1 0]]\n",
      "문서 0과 문서1의 유사도 : 0.5773502691896258\n",
      "문서 0과 문서2의 유사도 : 0.2581988897471611\n",
      "문서 1와 문서2의 유사도 : 0.6708203932499369\n"
     ]
    }
   ],
   "source": [
    "# example 1 - Korean\n",
    "\n",
    "documents = [\n",
    "    \"나는 학생 입니다\",\n",
    "    \"나는 좋은 선생님 입니다\",\n",
    "    \"당신은 매우 좋은 선생님 입니다\",\n",
    "]\n",
    "vector = CountVectorizer()\n",
    "dtm = vector.fit_transform(documents).toarray()\n",
    "\n",
    "print (dtm)\n",
    "\n",
    "doc0 = dtm[0]\n",
    "doc1 = dtm[1]\n",
    "doc2 = dtm[2]\n",
    "\n",
    "def cos_sim(A, B):\n",
    "  return dot(A, B)/(norm(A)*norm(B))\n",
    "\n",
    "print('문서 0과 문서1의 유사도 :',cos_sim(doc0, doc1))\n",
    "print('문서 0과 문서2의 유사도 :',cos_sim(doc0, doc2))\n",
    "print('문서 1와 문서2의 유사도 :',cos_sim(doc1, doc2))"
   ]
  },
  {
   "cell_type": "code",
   "execution_count": 8,
   "id": "b0abe4ea",
   "metadata": {},
   "outputs": [
    {
     "name": "stdout",
     "output_type": "stream",
     "text": [
      "[[0 1 1 1]\n",
      " [1 0 1 1]\n",
      " [2 0 2 2]]\n",
      "문서 0과 문서1의 유사도 : 0.6666666666666667\n",
      "문서 0과 문서2의 유사도 : 0.6666666666666667\n",
      "문서 1와 문서2의 유사도 : 1.0000000000000002\n"
     ]
    }
   ],
   "source": [
    "# example 2 - Korean\n",
    "\n",
    "documents = [\n",
    "    \"저는 사과 좋아요\",\n",
    "    \"저는 바나나 좋아요\",\n",
    "    \"저는 바나나 좋아요 저는 바나나 좋아요\",\n",
    "]\n",
    "vector = CountVectorizer()\n",
    "dtm = vector.fit_transform(documents).toarray()\n",
    "print(dtm)\n",
    "\n",
    "doc0 = dtm[0]\n",
    "doc1 = dtm[1]\n",
    "doc2 = dtm[2]\n",
    "\n",
    "def cos_sim(A, B):\n",
    "  return dot(A, B)/(norm(A)*norm(B))\n",
    "\n",
    "print('문서 0과 문서1의 유사도 :',cos_sim(doc0, doc1))\n",
    "print('문서 0과 문서2의 유사도 :',cos_sim(doc0, doc2))\n",
    "print('문서 1와 문서2의 유사도 :',cos_sim(doc1, doc2))"
   ]
  },
  {
   "cell_type": "code",
   "execution_count": 9,
   "id": "2e7cb198",
   "metadata": {},
   "outputs": [
    {
     "name": "stdout",
     "output_type": "stream",
     "text": [
      "[[0 1 0 1 1]\n",
      " [0 0 1 1 1]\n",
      " [1 0 2 2 2]]\n",
      "Similarity between Doc_0 and Doc_1 : 0.6666666666666667\n",
      "Similarity between Doc_0 and Doc_2 : 0.6405126152203486\n",
      "Similarity between Doc_1 and Doc_2 : 0.960768922830523\n"
     ]
    }
   ],
   "source": [
    "# Example - English\n",
    "\n",
    "documents = [\n",
    "    \"Lee likes apples\",\n",
    "    \"Lee likes bananas\",\n",
    "    \"Lee likes bananas and Lee likes bananas\",\n",
    "]\n",
    "vector = CountVectorizer()\n",
    "dtm = vector.fit_transform(documents).toarray()\n",
    "print(dtm)\n",
    "\n",
    "doc0 = dtm[0]\n",
    "doc1 = dtm[1]\n",
    "doc2 = dtm[2]\n",
    "\n",
    "def cos_sim(A, B):\n",
    "  return dot(A, B)/(norm(A)*norm(B))\n",
    "\n",
    "print('Similarity between Doc_0 and Doc_1 :',cos_sim(doc0, doc1))\n",
    "print('Similarity between Doc_0 and Doc_2 :',cos_sim(doc0, doc2))\n",
    "print('Similarity between Doc_1 and Doc_2 :',cos_sim(doc1, doc2))"
   ]
  },
  {
   "cell_type": "code",
   "execution_count": null,
   "id": "f4576588",
   "metadata": {},
   "outputs": [],
   "source": []
  }
 ],
 "metadata": {
  "kernelspec": {
   "display_name": "Python 3 (ipykernel)",
   "language": "python",
   "name": "python3"
  },
  "language_info": {
   "codemirror_mode": {
    "name": "ipython",
    "version": 3
   },
   "file_extension": ".py",
   "mimetype": "text/x-python",
   "name": "python",
   "nbconvert_exporter": "python",
   "pygments_lexer": "ipython3",
   "version": "3.9.12"
  }
 },
 "nbformat": 4,
 "nbformat_minor": 5
}
