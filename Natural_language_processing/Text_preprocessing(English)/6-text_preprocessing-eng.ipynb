{
 "cells": [
  {
   "cell_type": "markdown",
   "id": "65b4b351",
   "metadata": {},
   "source": [
    "# Text preprocessing"
   ]
  },
  {
   "cell_type": "code",
   "execution_count": 1,
   "id": "1205ab01",
   "metadata": {},
   "outputs": [
    {
     "name": "stdout",
     "output_type": "stream",
     "text": [
      "['I', 'love', 'you']\n"
     ]
    }
   ],
   "source": [
    "# Tokenization\n",
    "\n",
    "text1 ='I love you'\n",
    "\n",
    "text_tokenized = text1.split(' ')\n",
    "\n",
    "print (text_tokenized)"
   ]
  },
  {
   "cell_type": "code",
   "execution_count": 2,
   "id": "5305e263",
   "metadata": {},
   "outputs": [
    {
     "name": "stdout",
     "output_type": "stream",
     "text": [
      "hello! i want to study food science in korea.\n"
     ]
    }
   ],
   "source": [
    "# Lowercasing\n",
    "\n",
    "text2 = 'Hello! I want to study Food Science in KOREA.'\n",
    "\n",
    "text_lower = text2.lower()\n",
    "\n",
    "print (text_lower)"
   ]
  },
  {
   "cell_type": "code",
   "execution_count": 3,
   "id": "4e691b73",
   "metadata": {},
   "outputs": [
    {
     "name": "stdout",
     "output_type": "stream",
     "text": [
      "Hello!  students want to take  food science classes. How about you???\n",
      "Hello 2 students want to take 3 food science classes How about you\n",
      "Hello  students want to take  food science classes How about you\n"
     ]
    }
   ],
   "source": [
    "# removal of numbers and symbols (Regular expressions)\n",
    "import re\n",
    "\n",
    "text2 = 'Hello! 2 students want to take 3 food science classes. How about you???'\n",
    "\n",
    "result1 = re.sub(r'\\d+', '', text2)\n",
    "print (result1)\n",
    "\n",
    "result2 = re.sub(r'[\\.\\?\\!\\,\\:\\;\\\"]', '', text2)\n",
    "print (result2)\n",
    "\n",
    "result3 = re.sub(r'[\\.\\?\\!\\,\\:\\;\\\"]', '', result1)\n",
    "print (result3)"
   ]
  },
  {
   "cell_type": "code",
   "execution_count": 4,
   "id": "df970932",
   "metadata": {},
   "outputs": [
    {
     "name": "stdout",
     "output_type": "stream",
     "text": [
      "['I', 'want', 'to', 'study', 'food', 'science', 'in', 'KOREA.']\n",
      "['want', 'study', 'food', 'science', 'KOREA.']\n"
     ]
    }
   ],
   "source": [
    "# Removal of staopwords\n",
    "\n",
    "stopwords = ['I', 'to', 'in']\n",
    "\n",
    "text3 = 'I want to study food science in KOREA.'\n",
    "\n",
    "text3_tokenized = text3.split(' ')\n",
    "\n",
    "print (text3_tokenized)\n",
    "\n",
    "words = [word for word in text3_tokenized if word not in stopwords]\n",
    "\n",
    "print (words)"
   ]
  },
  {
   "cell_type": "code",
   "execution_count": 7,
   "id": "dec5bc85",
   "metadata": {},
   "outputs": [
    {
     "name": "stdout",
     "output_type": "stream",
     "text": [
      "['inform', 'inform', 'comput', 'feet', 'studi']\n"
     ]
    }
   ],
   "source": [
    "# stemming\n",
    "\n",
    "from nltk.stem import PorterStemmer\n",
    "\n",
    "tokenized = ['information','informative','computers','feet','studies']\n",
    "\n",
    "stemmer = PorterStemmer()\n",
    "stemmed = [stemmer.stem(token) for token in tokenized]\n",
    "\n",
    "print(stemmed)"
   ]
  },
  {
   "cell_type": "code",
   "execution_count": 8,
   "id": "1c1df997",
   "metadata": {
    "scrolled": false
   },
   "outputs": [
    {
     "name": "stdout",
     "output_type": "stream",
     "text": [
      "['information', 'informative', 'computer', 'foot', 'study']\n"
     ]
    }
   ],
   "source": [
    "from nltk.stem import WordNetLemmatizer\n",
    "\n",
    "tokenized = ['information','informative','computers','feet','studies']\n",
    "\n",
    "lemmatizer = WordNetLemmatizer()\n",
    "lemmatized = [lemmatizer.lemmatize(token) for token in tokenized]\n",
    "\n",
    "print(lemmatized)"
   ]
  },
  {
   "cell_type": "code",
   "execution_count": 9,
   "id": "924f3fa4",
   "metadata": {},
   "outputs": [
    {
     "name": "stdout",
     "output_type": "stream",
     "text": [
      "['Hello', '!', '2', 'students', 'want', 'to', 'take', '3', 'food', 'science', 'classes', '.', 'How', 'about', 'you', '???']\n",
      "['Hello', '2', 'students', 'want', 'to', 'take', '3', 'food', 'science', 'classes', 'How', 'about', 'you']\n"
     ]
    }
   ],
   "source": [
    "# tokenizer library \n",
    "\n",
    "from nltk.tokenize import RegexpTokenizer, WordPunctTokenizer\n",
    "\n",
    "text2 = 'Hello! 2 students want to take 3 food science classes. How about you???'\n",
    "\n",
    "tokenizer1 = WordPunctTokenizer()\n",
    "data1 = tokenizer1.tokenize(text2)\n",
    "\n",
    "print (data1)\n",
    "\n",
    "data2 = RegexpTokenizer('\\w+').tokenize(text2)\n",
    "\n",
    "print (data2) "
   ]
  },
  {
   "cell_type": "code",
   "execution_count": 10,
   "id": "37cfe692",
   "metadata": {},
   "outputs": [
    {
     "name": "stdout",
     "output_type": "stream",
     "text": [
      "['I', 'want', 'to', 'study', 'food', 'science', 'in', 'KOREA.']\n",
      "['I', 'want', 'study', 'food', 'science', 'KOREA.']\n"
     ]
    }
   ],
   "source": [
    "# Stop words library\n",
    "\n",
    "from nltk.corpus import stopwords\n",
    "\n",
    "stopwords = stopwords.words('english')\n",
    "\n",
    "text3 = 'I want to study food science in KOREA.'\n",
    "\n",
    "text3_tokenized = text3.split(' ')\n",
    "\n",
    "print (text3_tokenized)\n",
    "\n",
    "words = [word for word in text3_tokenized if word not in stopwords]\n",
    "\n",
    "print (words)"
   ]
  }
 ],
 "metadata": {
  "kernelspec": {
   "display_name": "Python 3 (ipykernel)",
   "language": "python",
   "name": "python3"
  },
  "language_info": {
   "codemirror_mode": {
    "name": "ipython",
    "version": 3
   },
   "file_extension": ".py",
   "mimetype": "text/x-python",
   "name": "python",
   "nbconvert_exporter": "python",
   "pygments_lexer": "ipython3",
   "version": "3.9.12"
  }
 },
 "nbformat": 4,
 "nbformat_minor": 5
}
