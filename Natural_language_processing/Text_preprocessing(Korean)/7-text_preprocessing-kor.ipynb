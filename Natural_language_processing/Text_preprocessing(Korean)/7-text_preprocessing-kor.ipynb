{
 "cells": [
  {
   "cell_type": "code",
   "execution_count": 2,
   "metadata": {},
   "outputs": [],
   "source": [
    "# KoNLPy: 파이썬 한국어 형태소 분석 패키지 \n",
    "# JAVA 가 미리 설치되어 있어야 함."
   ]
  },
  {
   "cell_type": "code",
   "execution_count": 1,
   "metadata": {},
   "outputs": [],
   "source": [
    "from konlpy.tag import Kkma \n",
    "from konlpy.tag import Okt\n",
    "kkma = Kkma()\n",
    "okt = Okt()"
   ]
  },
  {
   "cell_type": "code",
   "execution_count": 2,
   "metadata": {},
   "outputs": [
    {
     "name": "stdout",
     "output_type": "stream",
     "text": [
      "['안녕하세요.', '저는 식품 인공지능을 배우고 있습니다.']\n",
      "2\n",
      "==============================\n",
      "['안녕', '하', '세요', '.', '저', '는', '식품', '인공지능', '을', '배우', '고', '있', '습니다', '.']\n",
      "['안녕하세요', '.', '저', '는', '식품', '인', '공', '지능', '을', '배우고', '있습니다', '.']\n",
      "==============================\n",
      "[('안녕', 'NNG'), ('하', 'XSV'), ('세요', 'EFN'), ('.', 'SF'), ('저', 'NP'), ('는', 'JX'), ('식품', 'NNG'), ('인공지능', 'NNG'), ('을', 'JKO'), ('배우', 'VV'), ('고', 'ECE'), ('있', 'VXV'), ('습니다', 'EFN'), ('.', 'SF')]\n",
      "[('안녕하세요', 'Adjective'), ('.', 'Punctuation'), ('저', 'Noun'), ('는', 'Josa'), ('식품', 'Noun'), ('인', 'Josa'), ('공', 'Modifier'), ('지능', 'Noun'), ('을', 'Josa'), ('배우고', 'Verb'), ('있습니다', 'Adjective'), ('.', 'Punctuation')]\n",
      "==============================\n",
      "['안녕', '저', '식품', '식품인공지능', '인공', '인공지능', '지능']\n",
      "['저', '식품', '지능']\n"
     ]
    }
   ],
   "source": [
    "words = '안녕하세요. 저는 식품인공지능을 배우고 있습니다.'\n",
    "\n",
    "#sentences: 문장 추출\n",
    "print(kkma.sentences(words))\n",
    "print (len(kkma.sentences(words)))\n",
    "\n",
    "print ('='*30)\n",
    "\n",
    "# morphs: 형태소 추출\n",
    "print(kkma.morphs(words))\n",
    "print(okt.morphs(words))\n",
    "\n",
    "print ('='*30)\n",
    "\n",
    "# pos:품사 부착\n",
    "# http://kkma.snu.ac.kr/documents/index.jsp?doc=postag\n",
    "print(kkma.pos(words))\n",
    "print(okt.pos(words))\n",
    "\n",
    "print ('='*30)\n",
    "\n",
    "# nouns: 명사 추출\n",
    "print(kkma.nouns(words))\n",
    "print(okt.nouns(words))"
   ]
  },
  {
   "cell_type": "code",
   "execution_count": 3,
   "metadata": {},
   "outputs": [
    {
     "name": "stdout",
     "output_type": "stream",
     "text": [
      "abc!!!\n",
      "123abc\n",
      "==============================\n",
      "안녕! 명의 학생이 식품생명공학 개 과목을 수강하고 있는데, 너는 몇 개를 수강하고 있지???\n",
      "==============================\n",
      "안녕 2명의 학생이 식품생명공학 3개 과목을 수강하고 있는데 너는 몇 개를 수강하고 있지\n",
      "==============================\n",
      "안녕 명의 학생이 식품생명공학 개 과목을 수강하고 있는데 너는 몇 개를 수강하고 있지\n"
     ]
    }
   ],
   "source": [
    "# removal of numbers and symbols\n",
    "import re\n",
    "# re: 문자열 정규식\n",
    "\n",
    "text1 = '123abc!!!'\n",
    "result1_1 = re.sub('123', '', text1)\n",
    "print (result1_1)\n",
    "\n",
    "result1_2 = re.sub('\\!', '', text1)\n",
    "print (result1_2)\n",
    "\n",
    "print ('='*30)\n",
    "\n",
    "text2 = '안녕! 2명의 학생이 식품생명공학 3개 과목을 수강하고 있는데, 너는 몇 개를 수강하고 있지???'\n",
    "\n",
    "result2 = re.sub(r'[0-9]', '', text2)\n",
    "print (result2)\n",
    "\n",
    "print ('='*30)\n",
    "\n",
    "result3 = re.sub(r'[\\.\\?\\!\\,\\:\\;\\\"]', '', text2)\n",
    "print (result3)\n",
    "\n",
    "print ('='*30)\n",
    "\n",
    "result4 = re.sub(r'[0-9]|[\\.\\?\\!\\,\\:\\;\\\"]', '', text2)\n",
    "print (result4)"
   ]
  },
  {
   "cell_type": "code",
   "execution_count": 4,
   "metadata": {},
   "outputs": [
    {
     "name": "stdout",
     "output_type": "stream",
     "text": [
      "stopwords 제거 전: ['안녕', '명의', '학생', '식품', '식품생명공학', '생명', '공학', '개', '과목', '수강', '너']\n",
      "stopwords 제거 후: ['안녕', '학생', '식품', '식품생명공학', '생명', '공학', '과목', '수강']\n"
     ]
    }
   ],
   "source": [
    "# Removal of stopwords\n",
    "\n",
    "nouns = kkma.nouns(result4) \n",
    "print ('stopwords 제거 전:', nouns)\n",
    "\n",
    "stopwords = ['명의', '개', '너']\n",
    "\n",
    "words = [word for word in nouns if word not in stopwords]\n",
    "\n",
    "print ('stopwords 제거 후:', words)"
   ]
  },
  {
   "cell_type": "code",
   "execution_count": null,
   "metadata": {},
   "outputs": [],
   "source": []
  }
 ],
 "metadata": {
  "kernelspec": {
   "display_name": "Python 3 (ipykernel)",
   "language": "python",
   "name": "python3"
  },
  "language_info": {
   "codemirror_mode": {
    "name": "ipython",
    "version": 3
   },
   "file_extension": ".py",
   "mimetype": "text/x-python",
   "name": "python",
   "nbconvert_exporter": "python",
   "pygments_lexer": "ipython3",
   "version": "3.9.12"
  }
 },
 "nbformat": 4,
 "nbformat_minor": 4
}
