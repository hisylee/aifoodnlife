{
 "cells": [
  {
   "cell_type": "code",
   "execution_count": 1,
   "id": "7b3ef214",
   "metadata": {},
   "outputs": [],
   "source": [
    "from gensim.models import Word2Vec"
   ]
  },
  {
   "cell_type": "code",
   "execution_count": 2,
   "id": "767f05ad",
   "metadata": {},
   "outputs": [],
   "source": [
    "documents = ['this is good food',\n",
    "          'it is excellent food',\n",
    "          'this is the best food',\n",
    "          'it is bad food',\n",
    "          'that is the worst food',\n",
    "            ]"
   ]
  },
  {
   "cell_type": "code",
   "execution_count": 11,
   "id": "df035443",
   "metadata": {},
   "outputs": [],
   "source": [
    "# remove stopwords\n",
    "def remove_stop_words(corpus):\n",
    "    stop_words = ['is', 'the']\n",
    "    results = []\n",
    "    for text in corpus:\n",
    "        tmp = text.split(' ')\n",
    "        for stop_word in stop_words:\n",
    "            if stop_word in tmp:\n",
    "                tmp.remove(stop_word)\n",
    "        results.append(\" \".join(tmp))\n",
    "    return results"
   ]
  },
  {
   "cell_type": "code",
   "execution_count": 12,
   "id": "be9ef76a",
   "metadata": {},
   "outputs": [
    {
     "name": "stdout",
     "output_type": "stream",
     "text": [
      "['this good food', 'it excellent food', 'this best food', 'it bad food', 'that worst food']\n",
      "5\n",
      "[['this', 'good', 'food'], ['it', 'excellent', 'food'], ['this', 'best', 'food'], ['it', 'bad', 'food'], ['that', 'worst', 'food']]\n"
     ]
    }
   ],
   "source": [
    "corpus = remove_stop_words(documents)\n",
    "print (corpus)\n",
    "a = len(corpus)\n",
    "print (a)\n",
    "\n",
    "words = []\n",
    "for i in range (a) :\n",
    "    b = corpus[i].split(' ')\n",
    "    words.append(b)\n",
    "\n",
    "print (words)"
   ]
  },
  {
   "cell_type": "code",
   "execution_count": 13,
   "id": "6d4f0536",
   "metadata": {},
   "outputs": [],
   "source": [
    "model_1 = Word2Vec(words, min_count=1, sg=1) # sg - 1: skip-gram, 0: CBOW\n",
    "word_vectors_1 = model_1.wv"
   ]
  },
  {
   "cell_type": "code",
   "execution_count": 14,
   "id": "9839d7f7",
   "metadata": {},
   "outputs": [
    {
     "name": "stdout",
     "output_type": "stream",
     "text": [
      "-0.14454566\n"
     ]
    }
   ],
   "source": [
    "print (word_vectors_1.similarity(w1 = 'excellent', w2 ='good'))"
   ]
  },
  {
   "cell_type": "code",
   "execution_count": 15,
   "id": "610124b1",
   "metadata": {},
   "outputs": [
    {
     "name": "stdout",
     "output_type": "stream",
     "text": [
      "[('that', 0.13888005912303925), ('worst', 0.13149122893810272), ('this', 0.06409035623073578), ('good', 0.060591474175453186), ('best', 0.019152088090777397), ('it', 0.009391282685101032), ('excellent', -0.05774686485528946), ('food', -0.059887878596782684)]\n"
     ]
    }
   ],
   "source": [
    "# similar words?\n",
    "model_result = word_vectors_1.most_similar(\"bad\")\n",
    "print(model_result)"
   ]
  },
  {
   "cell_type": "markdown",
   "id": "c45de504",
   "metadata": {},
   "source": [
    "# use text files"
   ]
  },
  {
   "cell_type": "code",
   "execution_count": 16,
   "id": "5870c0b8",
   "metadata": {
    "scrolled": true
   },
   "outputs": [
    {
     "name": "stderr",
     "output_type": "stream",
     "text": [
      "[nltk_data] Downloading package movie_reviews to\n",
      "[nltk_data]     C:\\Users\\oem\\AppData\\Roaming\\nltk_data...\n",
      "[nltk_data]   Package movie_reviews is already up-to-date!\n"
     ]
    },
    {
     "data": {
      "text/plain": [
       "True"
      ]
     },
     "execution_count": 16,
     "metadata": {},
     "output_type": "execute_result"
    }
   ],
   "source": [
    "import nltk\n",
    "nltk.download('movie_reviews')"
   ]
  },
  {
   "cell_type": "code",
   "execution_count": 1,
   "id": "a0452da3",
   "metadata": {},
   "outputs": [],
   "source": [
    "from nltk.corpus import movie_reviews"
   ]
  },
  {
   "cell_type": "code",
   "execution_count": 18,
   "id": "57b45893",
   "metadata": {},
   "outputs": [
    {
     "name": "stdout",
     "output_type": "stream",
     "text": [
      "['neg', 'pos']\n",
      "1000\n",
      "1000\n"
     ]
    }
   ],
   "source": [
    "print (movie_reviews.categories())\n",
    "print (len(movie_reviews.fileids('pos')))\n",
    "print (len(movie_reviews.fileids('neg')))"
   ]
  },
  {
   "cell_type": "code",
   "execution_count": 19,
   "id": "0c2f280c",
   "metadata": {},
   "outputs": [
    {
     "name": "stdout",
     "output_type": "stream",
     "text": [
      "65258\n",
      "1583820\n"
     ]
    }
   ],
   "source": [
    "print (len(movie_reviews.sents()))\n",
    "print (len(movie_reviews.words()))"
   ]
  },
  {
   "cell_type": "code",
   "execution_count": 20,
   "id": "a15e54e4",
   "metadata": {},
   "outputs": [
    {
     "name": "stdout",
     "output_type": "stream",
     "text": [
      "plot : two teen couples go to a church party , drink and then drive . \n",
      "they get into an accident . \n",
      "one of the guys dies , but his girlfriend continues to see him in her life , and has nightmares . \n",
      "what's the deal ? \n",
      "watch the movie and \" sorta \" find out . . . \n",
      "critique : a mind-fuck movie for the teen generation that touches on a very cool idea , but presents it in a very bad package . \n",
      "which is what makes this review an even harder one to write , since i generally applaud films which attempt to break the mold , mess with your head and such ( lost highway & memento ) , but there are good and bad ways of making all types of films , and these folks just didn't snag this one correctly . \n",
      "they seem to have taken this pretty neat concept , but executed it terribly . \n",
      "so what are the problems with the movie ? \n",
      "well , its main problem is that it's simply too jumbled . \n",
      "it starts off \" normal \" but then downshifts into this \" fantasy \" world in which you , as an audience member , have no idea what's going on . \n",
      "there are dreams , there are characters coming back from the dead , there are others who look like the dead , there are strange apparitions , there are disappearances , there are a looooot of chase scenes , there are tons of weird things that happen , and most of it is simply not explained . \n",
      "now i personally don't mind trying to unravel a film every now and then , but when all it does is give me the same clue over and over again , i get kind of fed up after a while , which is this film's biggest problem . \n",
      "it's obviously got this big secret to hide , but it seems to want to hide it completely until its final five minutes . \n",
      "and do they make things entertaining , thrilling or even engaging , in the meantime ? \n",
      "not really . \n",
      "the sad part is that the arrow and i both dig on flicks like this , so we actually figured most of it out by the half-way point , so all of the strangeness after that did start to make a little bit of sense , but it still didn't the make the film all that more entertaining . \n",
      "i guess the bottom line with movies like this is that you should always make sure that the audience is \" into it \" even before they are given the secret password to enter your world of understanding . \n",
      "i mean , showing melissa sagemiller running away from visions for about 20 minutes throughout the movie is just plain lazy ! ! \n",
      "okay , we get it . . . there \n",
      "are people chasing her and we don't know who they are . \n",
      "do we really need to see it over and over again ? \n",
      "how about giving us different scenes offering further insight into all of the strangeness going down in the movie ? \n",
      "apparently , the studio took this film away from its director and chopped it up themselves , and it shows . \n",
      "there might've been a pretty decent teen mind-fuck movie in here somewhere , but i guess \" the suits \" decided that turning it into a music video with little edge , would make more sense . \n",
      "the actors are pretty good for the most part , although wes bentley just seemed to be playing the exact same character that he did in american beauty , only in a new neighborhood . \n",
      "but my biggest kudos go out to sagemiller , who holds her own throughout the entire film , and actually has you feeling her character's unraveling . \n",
      "overall , the film doesn't stick because it doesn't entertain , it's confusing , it rarely excites and it feels pretty redundant for most of its runtime , despite a pretty cool ending and explanation to all of the craziness that came before it . \n",
      "oh , and by the way , this is not a horror or teen slasher flick . . . it's \n",
      "just packaged to look that way because someone is apparently assuming that the genre is still hot with the kids . \n",
      "it also wrapped production two years ago and has been sitting on the shelves ever since . \n",
      "whatever . . . skip \n",
      "it ! \n",
      "where's joblo coming from ? \n",
      "a nightmare of elm street 3 ( 7/10 ) - blair witch 2 ( 7/10 ) - the crow ( 9/10 ) - the crow : salvation ( 4/10 ) - lost highway ( 10/10 ) - memento ( 10/10 ) - the others ( 9/10 ) - stir of echoes ( 8/10 ) \n",
      "\n"
     ]
    }
   ],
   "source": [
    "positive_fileids = movie_reviews.fileids()\n",
    "print(movie_reviews.raw(fileids=positive_fileids[0]))"
   ]
  },
  {
   "cell_type": "code",
   "execution_count": 22,
   "id": "cf061cf7",
   "metadata": {},
   "outputs": [
    {
     "data": {
      "text/plain": [
       "['plot',\n",
       " ':',\n",
       " 'two',\n",
       " 'teen',\n",
       " 'couples',\n",
       " 'go',\n",
       " 'to',\n",
       " 'a',\n",
       " 'church',\n",
       " 'party',\n",
       " ',',\n",
       " 'drink',\n",
       " 'and',\n",
       " 'then',\n",
       " 'drive',\n",
       " '.']"
      ]
     },
     "execution_count": 22,
     "metadata": {},
     "output_type": "execute_result"
    }
   ],
   "source": [
    "sentences = [list(s) for s in movie_reviews.sents()]\n",
    "sentences[0]"
   ]
  },
  {
   "cell_type": "code",
   "execution_count": 23,
   "id": "18fc7f3a",
   "metadata": {},
   "outputs": [
    {
     "name": "stdout",
     "output_type": "stream",
     "text": [
      "CPU times: total: 0 ns\n",
      "Wall time: 0 ns\n"
     ]
    }
   ],
   "source": [
    "%time\n",
    "model_2 = Word2Vec(sentences, min_count=5, sg=1)\n",
    "word_vectors_2 = model_2.wv"
   ]
  },
  {
   "cell_type": "code",
   "execution_count": 24,
   "id": "09cf49a9",
   "metadata": {},
   "outputs": [
    {
     "name": "stdout",
     "output_type": "stream",
     "text": [
      "0.7859025\n"
     ]
    }
   ],
   "source": [
    "print (word_vectors_2.similarity(w1 = 'actor', w2 ='actress'))"
   ]
  },
  {
   "cell_type": "code",
   "execution_count": 25,
   "id": "4b8c96f0",
   "metadata": {},
   "outputs": [
    {
     "name": "stdout",
     "output_type": "stream",
     "text": [
      "0.3256007\n"
     ]
    }
   ],
   "source": [
    "print (word_vectors_2.similarity(w1 = 'actress', w2 ='he'))"
   ]
  },
  {
   "cell_type": "code",
   "execution_count": 30,
   "id": "39456c32",
   "metadata": {},
   "outputs": [
    {
     "name": "stdout",
     "output_type": "stream",
     "text": [
      "0.50365704\n"
     ]
    }
   ],
   "source": [
    "print (word_vectors_2.similarity(w1 = 'actress', w2 ='she'))"
   ]
  },
  {
   "cell_type": "code",
   "execution_count": 31,
   "id": "2726cda8",
   "metadata": {},
   "outputs": [
    {
     "data": {
      "text/plain": [
       "[('father', 0.8182194828987122),\n",
       " ('husband', 0.8171589374542236),\n",
       " ('daughter', 0.8018474578857422),\n",
       " ('boyfriend', 0.7942995429039001),\n",
       " ('wife', 0.7853885293006897),\n",
       " ('sister', 0.7737388014793396),\n",
       " ('lucy', 0.7512483596801758),\n",
       " ('girlfriend', 0.7444260716438293),\n",
       " ('fiance', 0.7427548170089722),\n",
       " ('alcoholic', 0.7371337413787842)]"
      ]
     },
     "execution_count": 31,
     "metadata": {},
     "output_type": "execute_result"
    }
   ],
   "source": [
    "word_vectors_2.most_similar('mother')"
   ]
  },
  {
   "cell_type": "code",
   "execution_count": 32,
   "id": "63893914",
   "metadata": {},
   "outputs": [
    {
     "name": "stdout",
     "output_type": "stream",
     "text": [
      "0.5684988\n",
      "-0.14454566\n"
     ]
    }
   ],
   "source": [
    "print (word_vectors_2.similarity(w1 = 'excellent', w2 ='good'))\n",
    "print (word_vectors_1.similarity(w1 = 'excellent', w2 ='good'))"
   ]
  },
  {
   "cell_type": "code",
   "execution_count": 33,
   "id": "d6c597e8",
   "metadata": {},
   "outputs": [
    {
     "name": "stdout",
     "output_type": "stream",
     "text": [
      "[('good', 0.7245431542396545), ('awful', 0.6779270768165588), ('terrible', 0.6657944321632385), ('stupid', 0.6580325365066528), ('lousy', 0.6494559645652771), ('damn', 0.6462593674659729), ('dopey', 0.6423019766807556), ('dumb', 0.6395819783210754), ('crap', 0.634790301322937), ('weird', 0.6295193433761597)]\n"
     ]
    }
   ],
   "source": [
    "# similar words?\n",
    "model_result = word_vectors_2.most_similar(\"bad\")\n",
    "print(model_result)"
   ]
  },
  {
   "cell_type": "code",
   "execution_count": null,
   "id": "e72ee8fc",
   "metadata": {},
   "outputs": [],
   "source": []
  }
 ],
 "metadata": {
  "kernelspec": {
   "display_name": "Python 3 (ipykernel)",
   "language": "python",
   "name": "python3"
  },
  "language_info": {
   "codemirror_mode": {
    "name": "ipython",
    "version": 3
   },
   "file_extension": ".py",
   "mimetype": "text/x-python",
   "name": "python",
   "nbconvert_exporter": "python",
   "pygments_lexer": "ipython3",
   "version": "3.9.12"
  }
 },
 "nbformat": 4,
 "nbformat_minor": 5
}
