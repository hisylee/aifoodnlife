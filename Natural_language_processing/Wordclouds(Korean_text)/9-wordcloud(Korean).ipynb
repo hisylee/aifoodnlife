{
 "cells": [
  {
   "cell_type": "code",
   "execution_count": 1,
   "metadata": {},
   "outputs": [],
   "source": [
    "from konlpy.tag import Kkma\n",
    "kkma = Kkma()\n",
    "from wordcloud import WordCloud\n",
    "import matplotlib.pyplot as plt"
   ]
  },
  {
   "cell_type": "code",
   "execution_count": 2,
   "metadata": {},
   "outputs": [
    {
     "data": {
      "text/plain": [
       "'전 세계적으로 냉동생지를 이용한 제품시장은 1950 년대부터 시작되었다. 현재, 냉동생지는 소비자들에게 신선한 제품을 제공 할 수 있고, 노동력이 절감되며, 재고 관리가 용이하고, 계획생산이 가능하다는 장점을 가지고 있어(Autio & Sinda, 1992; Park et al., 2006) 그 수요가 증가하고 있으며 이에 따라 그 시장 규모도 지속적으로 커지고 있다(Giannou & Tzia, 2007; Lee et al., 2001). 최근 국내에서도 제빵 산업에서 냉동생지를 이용한 제품 생산 기술이 큰 기술발전을 이루고 있으며, 고급 베이커리 제품으로 새로운 영역을 확장하고 있는 등 많은 각광을 받고 있다. 냉동생지는 밀가루 반죽을 동결 킨 후 -18--20oC 에서 냉동 저장하여 효모 및 효소의 활동을 억제시키고 글루텐 결합구조의 손상을 최소화하여 밀가루 반죽의 제빵 적성을 장기간 유지 보존하는데 그 목적이 있다(Hui, 2006; Karel Kulp et al., 1998). 하지만 냉동생지는 기존의 제빵공정 이외에 냉해동 공정이 추가됨으로써 보다 복잡한 제어 공정이 필요하며, 최종 제품을 제조 시 발효시간이 오래 걸리고, 빵의 부피가 감소하며, 조직감이 떨어지는 등의 품질 면에서도 여러 가지 문제점이 보고되고 있다(Kenny et al., 1999). 이는 냉동 과정 시 생성되는 얼음결정에 의한 세포막의 약화에 따른 효모의 손상과 이로 인한 활성 저하, 냉동저장 중 반죽 내부의 글루텐 결합조직의 분해 등 다양한 요인으로부터 발생될 수 있다(Hui, 2006). 이러한 냉동생지의 문제점을 개선하기 위한 다양한 연구가 수행되어 왔는데 냉동 반죽 제조 시 검류(Lee et al., 2001; Sharadanant & Khan, 2003a), 유화제(Park et al., 2006; Lee et al., 2004a), 그리고 산화제(Lee et al., 2004b) 등을 첨가하여 제빵적성에 미치는 영향을 평가하였으며, 효소적 처리를 통한 제빵적성을 증진시킨 연구결과가 보고 되고 있다(Steffolani et al., 2012). 또한, 반죽의 냉동과 저장 조건에 따른 빵의 품질 특성을 비교한 연구가 수행되었다(Yi & Kerr, 2009; Lu & Grant, 1999; Koh, 2002). 하지만 이러한 냉동생지의 기본적인 물성학적 특성을 분석하고, 이를 최종제품의 품질 특성에 연관시키고자 하는 연구는 아직까지 제한적인 실정이다. 이러한 냉장생지 및 그 최종 제품에 대한 물리적 특성 연구는 냉동생지 공정 제어 및 제품 개발에 필요한 기초 자료를 제공함으로써 냉동생지 제품의 품질향상에 크게 기여할 수 있을 것으로 기대된다. 따라서 본 연구에서는 밀가루의 열물성 특성을 바탕으로 냉동생지를 제조 후 냉동 저장에 따른 물성특성을 분석하고, 최종 제품의 부피, 텍스처, 색상 등의 품질 특성을 분석하여 이들의 연관성을 평가하였다. '"
      ]
     },
     "execution_count": 2,
     "metadata": {},
     "output_type": "execute_result"
    }
   ],
   "source": [
    "file = open(\"abstract-kor.txt\", mode='r', encoding='utf-8') # utf-8 or cp949 \n",
    "doc = file.read()\n",
    "\n",
    "doc"
   ]
  },
  {
   "cell_type": "code",
   "execution_count": 5,
   "metadata": {
    "scrolled": true
   },
   "outputs": [
    {
     "name": "stdout",
     "output_type": "stream",
     "text": [
      "['전 세계적으로 냉동 생지를 이용한 제품시장은 1950 년대부터 시작되었다.', '현재, 냉동 생지는 소비자들에게 신선한 제품을 제공 할 수 있고, 노동력이 절감되며, 재고 관리가 용이하고, 계획 생산이 가능하다는 장점을 가지고 있어 (Autio & Sinda, 1992; Park et al., 2006) 그 수요가 증가하고 있으며 이에 따라 그 시장 규모도 지속적으로 커지고 있다 (Giannou & Tzia, 2007; Lee et al., 2001). 최근 국내에서도 제빵 산업에서 냉동 생지를 이용한 제품 생산 기술이 큰 기술발전을 이루고 있으며, 고급 베이커리 제품으로 새로운 영역을 확장하고 있는 등 많은 각광을 받고 있다.', '냉동 생지는 밀가루 반죽을 동결 킨 후 -18--20oC 에서 냉동 저장하여 효모 및 효소의 활동을 억제시키고 글루텐 결합구조의 손상을 최소화하여 밀가루 반죽의 제빵 적성을 장기간 유지 보존하는데 그 목적이 있다 (Hui, 2006; Karel Kulp et al., 1998). 하지만 냉동 생지는 기존의 제빵 공정 이외에 냉해 동 공정이 추가됨으로써 보다 복잡한 제어 공정이 필요하며, 최종 제품을 제조 시 발효시간이 오래 걸리고, 빵의 부피가 감소하며, 조직감이 떨어지는 등의 품질 면에서도 여러 가지 문제점이 보고 되고 있다 (Kenny et al., 1999). 이는 냉동 과정 시 생성되는 얼음결정에 의한 세포막의 약화에 따른 효모의 손상과 이로 인한 활성 저하, 냉동 저장 중 반죽 내부의 글루텐 결합조직의 분해 등 다양한 요인으로부터 발생될 수 있다 (Hui, 2006). 이러한 냉동 생지의 문제점을 개선하기 위한 다양한 연구가 수행되어 왔는데 냉동 반죽 제조 시 검류 (Lee et al., 2001; Sharadanant & Khan, 2003a), 유화제 (Park et al., 2006; Lee et al., 2004a), 그리고 산화제 (Lee et al., 2004b) 등을 첨가 하여 제빵 적성에 미치는 영향을 평가하였으며, 효소적 처리를 통한 제빵 적성을 증진시킨 연구결과가 보고 되고 있다 (Steffolani et al., 2012). 또 한, 반죽의 냉동과 저장 조건에 따른 빵의 품질 특성을 비교한 연구가 수행되었다 (Yi & Kerr, 2009; Lu & Grant, 1999; Koh, 2002). 하지만 이러한 냉동 생지의 기본 적인 물성 학적 특성을 분석하고, 이를 최종제품의 품질 특성에 연관시키고자 하는 연구는 아직 까지 제한 적인 실정이다.', '이러한 냉장 생지 및 그 최종 제품에 대한 물리적 특성 연구는 냉동 생지 공정 제어 및 제품 개발에 필요한 기초 자료를 제공함으로써 냉동 생지 제품의 품질 향상에 크게 기여할 수 있을 것으로 기대된다.', '따라서 본 연구에서는 밀가루의 열 물성 특성을 바탕으로 냉동 생지를 제조 후 냉동 저장에 따른 물성 특성을 분석하고, 최종 제품의 부피, 텍스 처, 색상 등의 품질 특성을 분석하여 이들의 연관성을 평가하였다.']\n"
     ]
    }
   ],
   "source": [
    "# 문장 추출\n",
    "ex_sent = kkma.sentences(doc)\n",
    "\n",
    "print (ex_sent)"
   ]
  },
  {
   "cell_type": "code",
   "execution_count": 10,
   "metadata": {
    "scrolled": false
   },
   "outputs": [
    {
     "data": {
      "text/plain": [
       "['세계적',\n",
       " '냉동',\n",
       " '생지',\n",
       " '이용',\n",
       " '제품',\n",
       " '제품시장',\n",
       " '시장',\n",
       " '년대',\n",
       " '시작',\n",
       " '현재',\n",
       " '냉동',\n",
       " '생지',\n",
       " '소비자',\n",
       " '제품',\n",
       " '제공',\n",
       " '노동력',\n",
       " '절감',\n",
       " '재고',\n",
       " '관리',\n",
       " '계획',\n",
       " '생산',\n",
       " '가능',\n",
       " '장점',\n",
       " '수요',\n",
       " '증가',\n",
       " '시장',\n",
       " '규모',\n",
       " '지속적',\n",
       " '최근',\n",
       " '국내',\n",
       " '산업',\n",
       " '이용',\n",
       " '기술',\n",
       " '기술발전',\n",
       " '발전',\n",
       " '고급',\n",
       " '베이커리',\n",
       " '영역',\n",
       " '확장',\n",
       " '각광',\n",
       " '냉동',\n",
       " '생지',\n",
       " '밀가루',\n",
       " '반죽',\n",
       " '동결',\n",
       " '-18',\n",
       " '-20',\n",
       " '저장',\n",
       " '효모',\n",
       " '효소',\n",
       " '활동',\n",
       " '억제',\n",
       " '글루텐',\n",
       " '결합',\n",
       " '결합구조',\n",
       " '구조',\n",
       " '손상',\n",
       " '최소화',\n",
       " '적성',\n",
       " '장기간',\n",
       " '유지',\n",
       " '보존',\n",
       " '목적',\n",
       " '기존',\n",
       " '공정',\n",
       " '이외',\n",
       " '냉해',\n",
       " '추가',\n",
       " '제어',\n",
       " '필요',\n",
       " '최종',\n",
       " '제품',\n",
       " '제조',\n",
       " '발효',\n",
       " '발효시간',\n",
       " '시간',\n",
       " '부피',\n",
       " '감소',\n",
       " '조직감',\n",
       " '품질',\n",
       " '가지',\n",
       " '문제점',\n",
       " '과정',\n",
       " '생성',\n",
       " '얼음',\n",
       " '얼음결정',\n",
       " '결정',\n",
       " '세포막',\n",
       " '약화',\n",
       " '이로',\n",
       " '활성',\n",
       " '저하',\n",
       " '내부',\n",
       " '결합조직',\n",
       " '조직',\n",
       " '분해',\n",
       " '다양',\n",
       " '요인',\n",
       " '발생',\n",
       " '개선',\n",
       " '연구가',\n",
       " '수행',\n",
       " '검류',\n",
       " '유화제',\n",
       " '산화제',\n",
       " '첨가',\n",
       " '영향',\n",
       " '평가',\n",
       " '처리',\n",
       " '증진',\n",
       " '연구',\n",
       " '연구결과',\n",
       " '결과',\n",
       " '조건',\n",
       " '특성',\n",
       " '비교',\n",
       " '기본',\n",
       " '적인',\n",
       " '물성',\n",
       " '학적',\n",
       " '분석',\n",
       " '최종제품',\n",
       " '연관',\n",
       " '제한',\n",
       " '실정',\n",
       " '냉장',\n",
       " '생지',\n",
       " '최종',\n",
       " '제품',\n",
       " '물리적',\n",
       " '특성',\n",
       " '연구',\n",
       " '냉동',\n",
       " '공정',\n",
       " '제어',\n",
       " '개발',\n",
       " '필요',\n",
       " '기초',\n",
       " '자료',\n",
       " '제공',\n",
       " '품질',\n",
       " '향상',\n",
       " '기여',\n",
       " '연구',\n",
       " '밀가루',\n",
       " '물성',\n",
       " '특성',\n",
       " '바탕',\n",
       " '냉동',\n",
       " '생지',\n",
       " '제조',\n",
       " '저장',\n",
       " '분석',\n",
       " '최종',\n",
       " '제품',\n",
       " '부피',\n",
       " '텍스',\n",
       " '색상',\n",
       " '품질',\n",
       " '연관성',\n",
       " '평가']"
      ]
     },
     "execution_count": 10,
     "metadata": {},
     "output_type": "execute_result"
    }
   ],
   "source": [
    "# 명사 추출 및 정규식\n",
    "from re import match\n",
    "nouns = []\n",
    "for sent in ex_sent : \n",
    "    for noun in kkma.nouns(sent) :\n",
    "        if len(str(noun)) >= 2 and not(match('^[0-9]', noun)): # 단어 전처리 : 2음절 이상, 숫자 제외 \n",
    "            nouns.append(noun)\n",
    "            \n",
    "nouns"
   ]
  },
  {
   "cell_type": "code",
   "execution_count": 11,
   "metadata": {},
   "outputs": [
    {
     "name": "stdout",
     "output_type": "stream",
     "text": [
      "125\n"
     ]
    },
    {
     "data": {
      "text/plain": [
       "{'세계적': 1,\n",
       " '냉동': 5,\n",
       " '생지': 5,\n",
       " '이용': 2,\n",
       " '제품': 5,\n",
       " '제품시장': 1,\n",
       " '시장': 2,\n",
       " '시작': 1,\n",
       " '현재': 1,\n",
       " '소비자': 1,\n",
       " '제공': 2,\n",
       " '노동력': 1,\n",
       " '절감': 1,\n",
       " '재고': 1,\n",
       " '관리': 1,\n",
       " '계획': 1,\n",
       " '생산': 1,\n",
       " '가능': 1,\n",
       " '장점': 1,\n",
       " '수요': 1,\n",
       " '증가': 1,\n",
       " '규모': 1,\n",
       " '지속적': 1,\n",
       " '국내': 1,\n",
       " '산업': 1,\n",
       " '기술': 1,\n",
       " '기술발전': 1,\n",
       " '발전': 1,\n",
       " '고급': 1,\n",
       " '베이커리': 1,\n",
       " '영역': 1,\n",
       " '확장': 1,\n",
       " '각광': 1,\n",
       " '밀가루': 2,\n",
       " '반죽': 1,\n",
       " '동결': 1,\n",
       " '-18': 1,\n",
       " '-20': 1,\n",
       " '저장': 2,\n",
       " '효모': 1,\n",
       " '효소': 1,\n",
       " '활동': 1,\n",
       " '억제': 1,\n",
       " '글루텐': 1,\n",
       " '결합': 1,\n",
       " '결합구조': 1,\n",
       " '구조': 1,\n",
       " '손상': 1,\n",
       " '최소화': 1,\n",
       " '적성': 1,\n",
       " '장기간': 1,\n",
       " '유지': 1,\n",
       " '보존': 1,\n",
       " '목적': 1,\n",
       " '기존': 1,\n",
       " '공정': 2,\n",
       " '냉해': 1,\n",
       " '추가': 1,\n",
       " '제어': 2,\n",
       " '필요': 2,\n",
       " '최종': 3,\n",
       " '제조': 2,\n",
       " '발효': 1,\n",
       " '발효시간': 1,\n",
       " '시간': 1,\n",
       " '부피': 2,\n",
       " '감소': 1,\n",
       " '조직감': 1,\n",
       " '품질': 3,\n",
       " '가지': 1,\n",
       " '문제점': 1,\n",
       " '과정': 1,\n",
       " '생성': 1,\n",
       " '얼음': 1,\n",
       " '얼음결정': 1,\n",
       " '결정': 1,\n",
       " '세포막': 1,\n",
       " '약화': 1,\n",
       " '이로': 1,\n",
       " '활성': 1,\n",
       " '저하': 1,\n",
       " '내부': 1,\n",
       " '결합조직': 1,\n",
       " '조직': 1,\n",
       " '분해': 1,\n",
       " '다양': 1,\n",
       " '요인': 1,\n",
       " '발생': 1,\n",
       " '개선': 1,\n",
       " '연구가': 1,\n",
       " '수행': 1,\n",
       " '검류': 1,\n",
       " '유화제': 1,\n",
       " '산화제': 1,\n",
       " '첨가': 1,\n",
       " '영향': 1,\n",
       " '평가': 2,\n",
       " '처리': 1,\n",
       " '증진': 1,\n",
       " '연구': 3,\n",
       " '연구결과': 1,\n",
       " '결과': 1,\n",
       " '조건': 1,\n",
       " '특성': 3,\n",
       " '비교': 1,\n",
       " '기본': 1,\n",
       " '적인': 1,\n",
       " '물성': 2,\n",
       " '학적': 1,\n",
       " '분석': 2,\n",
       " '최종제품': 1,\n",
       " '연관': 1,\n",
       " '제한': 1,\n",
       " '실정': 1,\n",
       " '냉장': 1,\n",
       " '물리적': 1,\n",
       " '개발': 1,\n",
       " '기초': 1,\n",
       " '자료': 1,\n",
       " '향상': 1,\n",
       " '기여': 1,\n",
       " '바탕': 1,\n",
       " '텍스': 1,\n",
       " '색상': 1,\n",
       " '연관성': 1}"
      ]
     },
     "execution_count": 11,
     "metadata": {},
     "output_type": "execute_result"
    }
   ],
   "source": [
    "# 불용어 제거\n",
    "\n",
    "stopwords = ['년대', '최근', '이외']\n",
    "\n",
    "words = [word for word in nouns if word not in stopwords]\n",
    "\n",
    "word_count = {} # 빈 set\n",
    "\n",
    "for noun in words :\n",
    "    word_count[noun] = word_count.get(noun, 0) + 1\n",
    "\n",
    "print (len(word_count))\n",
    "    \n",
    "word_count"
   ]
  },
  {
   "cell_type": "code",
   "execution_count": 13,
   "metadata": {},
   "outputs": [
    {
     "name": "stdout",
     "output_type": "stream",
     "text": [
      "Counter({'냉동': 5, '생지': 5, '제품': 5, '최종': 3, '품질': 3, '연구': 3, '특성': 3, '이용': 2, '시장': 2, '제공': 2, '밀가루': 2, '저장': 2, '공정': 2, '제어': 2, '필요': 2, '제조': 2, '부피': 2, '평가': 2, '물성': 2, '분석': 2, '세계적': 1, '제품시장': 1, '시작': 1, '현재': 1, '소비자': 1, '노동력': 1, '절감': 1, '재고': 1, '관리': 1, '계획': 1, '생산': 1, '가능': 1, '장점': 1, '수요': 1, '증가': 1, '규모': 1, '지속적': 1, '국내': 1, '산업': 1, '기술': 1, '기술발전': 1, '발전': 1, '고급': 1, '베이커리': 1, '영역': 1, '확장': 1, '각광': 1, '반죽': 1, '동결': 1, '-18': 1, '-20': 1, '효모': 1, '효소': 1, '활동': 1, '억제': 1, '글루텐': 1, '결합': 1, '결합구조': 1, '구조': 1, '손상': 1, '최소화': 1, '적성': 1, '장기간': 1, '유지': 1, '보존': 1, '목적': 1, '기존': 1, '냉해': 1, '추가': 1, '발효': 1, '발효시간': 1, '시간': 1, '감소': 1, '조직감': 1, '가지': 1, '문제점': 1, '과정': 1, '생성': 1, '얼음': 1, '얼음결정': 1, '결정': 1, '세포막': 1, '약화': 1, '이로': 1, '활성': 1, '저하': 1, '내부': 1, '결합조직': 1, '조직': 1, '분해': 1, '다양': 1, '요인': 1, '발생': 1, '개선': 1, '연구가': 1, '수행': 1, '검류': 1, '유화제': 1, '산화제': 1, '첨가': 1, '영향': 1, '처리': 1, '증진': 1, '연구결과': 1, '결과': 1, '조건': 1, '비교': 1, '기본': 1, '적인': 1, '학적': 1, '최종제품': 1, '연관': 1, '제한': 1, '실정': 1, '냉장': 1, '물리적': 1, '개발': 1, '기초': 1, '자료': 1, '향상': 1, '기여': 1, '바탕': 1, '텍스': 1, '색상': 1, '연관성': 1})\n",
      "[('냉동', 5), ('생지', 5), ('제품', 5), ('최종', 3), ('품질', 3), ('연구', 3), ('특성', 3), ('이용', 2), ('시장', 2), ('제공', 2), ('밀가루', 2), ('저장', 2), ('공정', 2), ('제어', 2), ('필요', 2), ('제조', 2), ('부피', 2), ('평가', 2), ('물성', 2), ('분석', 2)]\n"
     ]
    }
   ],
   "source": [
    "# top_n\n",
    "from collections import Counter\n",
    "\n",
    "counter = Counter(word_count)\n",
    "print (counter)\n",
    "\n",
    "#top50 = counter.most_common(50)\n",
    "top20 = counter.most_common(20)\n",
    "print (top20)"
   ]
  },
  {
   "cell_type": "code",
   "execution_count": 16,
   "metadata": {},
   "outputs": [
    {
     "data": {
      "image/png": "[encoded data removed]",
      "text/plain": [
       "<Figure size 432x288 with 1 Axes>"
      ]
     },
     "metadata": {
      "needs_background": "light"
     },
     "output_type": "display_data"
    }
   ],
   "source": [
    "plt.rc('font', family='Malgun Gothic')\n",
    "\n",
    "x = len(top20)\n",
    "words1 = []\n",
    "for i in range(x):\n",
    "    words1.append(top20[i][0])\n",
    "\n",
    "values1 = []\n",
    "for i in range(x):\n",
    "    values1.append(top20[i][1])\n",
    " # \n",
    "#plt.bar(np.arange(x), values1)\n",
    "plt.figure()\n",
    "plt.bar(words1, values1)\n",
    "plt.title('단어 빈도 Top 20')\n",
    "\n",
    "plt.show()"
   ]
  },
  {
   "cell_type": "code",
   "execution_count": 18,
   "metadata": {},
   "outputs": [
    {
     "data": {
      "text/plain": [
       "(-0.5, 799.5, 799.5, -0.5)"
      ]
     },
     "execution_count": 18,
     "metadata": {},
     "output_type": "execute_result"
    },
    {
     "data": {
      "image/png": "[encoded data removed]",
      "text/plain": [
       "<Figure size 432x288 with 1 Axes>"
      ]
     },
     "metadata": {
      "needs_background": "light"
     },
     "output_type": "display_data"
    }
   ],
   "source": [
    "wc = WordCloud(font_path='malgun', width=400, height=400, background_color = 'white', scale=2.0, max_font_size=250) # white\n",
    "gen = wc.generate_from_frequencies(dict(top20))\n",
    "\n",
    "plt.figure()\n",
    "plt.imshow(gen)\n",
    "plt.axis('off')\n"
   ]
  },
  {
   "cell_type": "code",
   "execution_count": 19,
   "metadata": {},
   "outputs": [
    {
     "data": {
      "text/plain": [
       "<wordcloud.wordcloud.WordCloud at 0x226645b98e0>"
      ]
     },
     "execution_count": 19,
     "metadata": {},
     "output_type": "execute_result"
    }
   ],
   "source": [
    "#화일로 저장\n",
    "wc.to_file('word_cloud.png')"
   ]
  },
  {
   "cell_type": "code",
   "execution_count": 21,
   "metadata": {},
   "outputs": [
    {
     "data": {
      "text/plain": [
       "(-0.5, 845.5, 749.5, -0.5)"
      ]
     },
     "execution_count": 21,
     "metadata": {},
     "output_type": "execute_result"
    },
    {
     "data": {
      "image/png": "[encoded data removed]",
      "text/plain": [
       "<Figure size 432x288 with 1 Axes>"
      ]
     },
     "metadata": {
      "needs_background": "light"
     },
     "output_type": "display_data"
    }
   ],
   "source": [
    "# 원하는 모양으로\n",
    "from PIL import Image\n",
    "import numpy as np\n",
    "\n",
    "mask = np.array(Image.open('love.png'))\n",
    "#wc = WordCloud(font_path=font_path, background_color=\"white\", mask=mask)\n",
    "\n",
    "wc = WordCloud(font_path='malgun', width=400, height=400, background_color = 'white', scale=2.0, max_font_size=250, mask=mask)\n",
    "gen = wc.generate_from_frequencies(dict(top20))\n",
    "\n",
    "plt.figure()\n",
    "plt.imshow(gen)\n",
    "plt.axis('off')"
   ]
  },
  {
   "cell_type": "code",
   "execution_count": null,
   "metadata": {},
   "outputs": [],
   "source": []
  }
 ],
 "metadata": {
  "kernelspec": {
   "display_name": "Python 3 (ipykernel)",
   "language": "python",
   "name": "python3"
  },
  "language_info": {
   "codemirror_mode": {
    "name": "ipython",
    "version": 3
   },
   "file_extension": ".py",
   "mimetype": "text/x-python",
   "name": "python",
   "nbconvert_exporter": "python",
   "pygments_lexer": "ipython3",
   "version": "3.9.12"
  }
 },
 "nbformat": 4,
 "nbformat_minor": 4
}
