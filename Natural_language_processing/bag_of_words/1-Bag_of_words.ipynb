{
 "cells": [
  {
   "cell_type": "code",
   "execution_count": 4,
   "id": "843cb6a8",
   "metadata": {},
   "outputs": [
    {
     "name": "stdout",
     "output_type": "stream",
     "text": [
      "['She', 'is', 'a', 'student', 'and', 'he', 'is', 'not', 'a', 'student']\n",
      "- documents: She is a student and he is not a student\n",
      "- Vocabulary: {'She': 0, 'is': 1, 'a': 2, 'student': 3, 'and': 4, 'he': 5, 'not': 6}\n",
      "- BoW vector: [1, 2, 2, 2, 1, 1, 1]\n",
      "===================\n"
     ]
    }
   ],
   "source": [
    "# bag of words\n",
    "\n",
    "documents ='She is a student and he is not a student'\n",
    "\n",
    "doc_tokenized = documents.split(' ')\n",
    "\n",
    "print (doc_tokenized)\n",
    "\n",
    "vocab = {}\n",
    "bow = []\n",
    "for word in doc_tokenized:\n",
    "    if word not in vocab.keys():\n",
    "        vocab[word] = len(vocab)\n",
    "        bow.append(1)\n",
    "    else:\n",
    "        word_index = vocab.get(word)\n",
    "        bow[word_index]+=1\n",
    "\n",
    "print(f\"- documents: {documents}\")\n",
    "print(f\"- Vocabulary: {vocab}\")\n",
    "print(f\"- BoW vector: {bow}\")\n",
    "print(\"===================\")"
   ]
  },
  {
   "cell_type": "code",
   "execution_count": null,
   "id": "64969807",
   "metadata": {},
   "outputs": [],
   "source": []
  }
 ],
 "metadata": {
  "kernelspec": {
   "display_name": "Python 3 (ipykernel)",
   "language": "python",
   "name": "python3"
  },
  "language_info": {
   "codemirror_mode": {
    "name": "ipython",
    "version": 3
   },
   "file_extension": ".py",
   "mimetype": "text/x-python",
   "name": "python",
   "nbconvert_exporter": "python",
   "pygments_lexer": "ipython3",
   "version": "3.8.10"
  }
 },
 "nbformat": 4,
 "nbformat_minor": 5
}
